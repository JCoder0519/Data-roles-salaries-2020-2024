{
 "cells": [
  {
   "cell_type": "markdown",
   "metadata": {},
   "source": [
    "An  overall  introduction  to  your  project,  including  the  topic  and  tasks.   (5  pts)\n",
    "\n",
    "•    At   least   one   data   visualization   for   the   overall   data   with   clear   title,    labels,    legend(if   need)   and   a paragraph  to  introduce  the  data,  including  the  size,  source  and  attributes.   (10  pts)\n",
    "\n",
    "•    At  least  two  links  to  the  references.   (5  pts)\n",
    "\n",
    "•    At  least  three  static  data  visualization,   each  with  clear  title,   labels,   legend(if  need)  and  a  paragraph to  explain  the  takeaway  of  the  visualization.   (30  pts)\n",
    "\n",
    "•    At  least  two  interactive  data  visualization,  each  with  clear  title,  labels,  legend(if  need)  and  a  paragraph to  explain  how  to  interact  with  the  visualization.(30  pts)\n",
    "\n",
    "•    A  summary  for  your  findings,  including  what  you  have  learned  from  the  data  visualization  and  what can  be  done  in  the  future.   (15  pts)\n",
    "\n",
    "•    Format,   including   correctly   publish   the   website,   no   grammar   error   and   keep   the   webpage   tidy   and clear.(5  pts)"
   ]
  },
  {
   "cell_type": "code",
   "execution_count": 2,
   "metadata": {},
   "outputs": [],
   "source": [
    "import pandas as pd\n",
    "pd.options.display.float_format = '{:,.2f}'.format\n",
    "import numpy as np\n",
    "import matplotlib.pyplot as plt\n",
    "import seaborn as sns"
   ]
  },
  {
   "cell_type": "code",
   "execution_count": 3,
   "metadata": {},
   "outputs": [
    {
     "data": {
      "text/html": [
       "<div>\n",
       "<style scoped>\n",
       "    .dataframe tbody tr th:only-of-type {\n",
       "        vertical-align: middle;\n",
       "    }\n",
       "\n",
       "    .dataframe tbody tr th {\n",
       "        vertical-align: top;\n",
       "    }\n",
       "\n",
       "    .dataframe thead th {\n",
       "        text-align: right;\n",
       "    }\n",
       "</style>\n",
       "<table border=\"1\" class=\"dataframe\">\n",
       "  <thead>\n",
       "    <tr style=\"text-align: right;\">\n",
       "      <th></th>\n",
       "      <th>Job Title</th>\n",
       "      <th>Employment Type</th>\n",
       "      <th>Experience Level</th>\n",
       "      <th>Expertise Level</th>\n",
       "      <th>Salary</th>\n",
       "      <th>Salary Currency</th>\n",
       "      <th>Company Location</th>\n",
       "      <th>Salary in USD</th>\n",
       "      <th>Employee Residence</th>\n",
       "      <th>Company Size</th>\n",
       "      <th>Year</th>\n",
       "    </tr>\n",
       "  </thead>\n",
       "  <tbody>\n",
       "    <tr>\n",
       "      <th>1662</th>\n",
       "      <td>Research Scientist</td>\n",
       "      <td>Full-Time</td>\n",
       "      <td>Senior</td>\n",
       "      <td>Expert</td>\n",
       "      <td>303050</td>\n",
       "      <td>United States Dollar</td>\n",
       "      <td>United States</td>\n",
       "      <td>303050</td>\n",
       "      <td>United States</td>\n",
       "      <td>Medium</td>\n",
       "      <td>2023</td>\n",
       "    </tr>\n",
       "  </tbody>\n",
       "</table>\n",
       "</div>"
      ],
      "text/plain": [
       "               Job Title Employment Type Experience Level Expertise Level  \\\n",
       "1662  Research Scientist       Full-Time           Senior          Expert   \n",
       "\n",
       "      Salary       Salary Currency Company Location  Salary in USD  \\\n",
       "1662  303050  United States Dollar    United States         303050   \n",
       "\n",
       "     Employee Residence Company Size  Year  \n",
       "1662      United States       Medium  2023  "
      ]
     },
     "execution_count": 3,
     "metadata": {},
     "output_type": "execute_result"
    }
   ],
   "source": [
    "df = pd.read_csv(\"v7_Latest_Data_Science_Salaries.csv\")\n",
    "df.sample()"
   ]
  },
  {
   "cell_type": "code",
   "execution_count": 4,
   "metadata": {},
   "outputs": [
    {
     "data": {
      "text/plain": [
       "Job Title\n",
       "Data Engineer                               1097\n",
       "Data Scientist                              1051\n",
       "Data Analyst                                 772\n",
       "Machine Learning Engineer                    542\n",
       "Analytics Engineer                           218\n",
       "Research Scientist                           177\n",
       "Data Architect                               149\n",
       "Research Engineer                            113\n",
       "ML Engineer                                  102\n",
       "Data Science Manager                          83\n",
       "Applied Scientist                             82\n",
       "Business Intelligence Analyst                 74\n",
       "Machine Learning Scientist                    64\n",
       "Business Intelligence Engineer                64\n",
       "Data Manager                                  63\n",
       "Research Analyst                              57\n",
       "AI Engineer                                   46\n",
       "Data Science                                  39\n",
       "Data Specialist                               39\n",
       "Data Science Consultant                       38\n",
       "BI Developer                                  36\n",
       "Data Analytics Manager                        31\n",
       "Machine Learning Infrastructure Engineer      30\n",
       "Director of Data Science                      28\n",
       "Head of Data                                  26\n",
       "Computer Vision Engineer                      26\n",
       "BI Analyst                                    24\n",
       "Business Intelligence Developer               23\n",
       "AI Scientist                                  22\n",
       "Data Science Lead                             22\n",
       "Name: count, dtype: int64"
      ]
     },
     "execution_count": 4,
     "metadata": {},
     "output_type": "execute_result"
    }
   ],
   "source": [
    "top_30_job_title = df[\"Job Title\"].value_counts()[:30]\n",
    "top_30_job_title"
   ]
  },
  {
   "cell_type": "code",
   "execution_count": 5,
   "metadata": {},
   "outputs": [
    {
     "data": {
      "image/png": "[encoded data removed]",
      "text/plain": [
       "<Figure size 1300x700 with 1 Axes>"
      ]
     },
     "metadata": {},
     "output_type": "display_data"
    }
   ],
   "source": [
    "# Assuming top_30_job_title is a Series with counts of the top 30 job titles, let's simulate it\n",
    "# Since the specific series top_30_job_title is not defined, let's generate a similar example\n",
    "top_30_job_title_example = df['Job Title'].value_counts().nlargest(30)\n",
    "\n",
    "plt.figure(figsize=(13, 7))\n",
    "ax = top_30_job_title_example.sort_values(ascending=True).plot(kind='barh', color=sns.color_palette('tab20'), edgecolor='black')\n",
    "plt.ylabel('Job Titles', fontsize=14)\n",
    "plt.xlabel('Count', fontsize=14)\n",
    "plt.title('Top 30 Job Titles\\n', fontsize=16)\n",
    "plt.xticks(rotation=0, ha='center', fontsize=16)\n",
    "\n",
    "# Adding data labels\n",
    "for index, value in enumerate(top_30_job_title_example.sort_values(ascending=True)):\n",
    "    plt.text(value, index, str(value), va='center', ha='left', fontsize=12)\n",
    "\n",
    "plt.tight_layout()\n",
    "plt.savefig('Top30.png') \n",
    "plt.show()"
   ]
  },
  {
   "cell_type": "code",
   "execution_count": 6,
   "metadata": {},
   "outputs": [
    {
     "data": {
      "image/png": "[encoded data removed]",
      "text/plain": [
       "<Figure size 1300x700 with 1 Axes>"
      ]
     },
     "metadata": {},
     "output_type": "display_data"
    }
   ],
   "source": [
    "plt.figure(figsize=(13, 7))\n",
    "\n",
    "counts = df[\"Experience Level\"].value_counts()\n",
    "explode = (0.1, 0.1, 0.1, 0.2)  # Slightly separate the slices\n",
    "\n",
    "counts.plot(kind='pie', explode=explode, fontsize=14, autopct='%1.1f%%', shadow=True, startangle=140, colors=sns.color_palette(\"viridis\", len(counts)))\n",
    "plt.ylabel('')  # Hide the 'Experience Level' ylabel generated by default\n",
    "plt.axis('equal')  # Ensures pie chart is a circle\n",
    "plt.legend(labels=[f'{label}: {count}' for label, count in counts.items()], title=\"Experience Level\", bbox_to_anchor=(1, 0.9), fontsize=12)\n",
    "plt.title('Jobs Count Distribution by Experience Level', weight=\"bold\", fontsize=16, pad=20)\n",
    "plt.savefig('pie.png')\n",
    "plt.show()\n"
   ]
  },
  {
   "cell_type": "code",
   "execution_count": 7,
   "metadata": {},
   "outputs": [
    {
     "data": {
      "image/png": "[encoded data removed]",
      "text/plain": [
       "<Figure size 1300x700 with 1 Axes>"
      ]
     },
     "metadata": {},
     "output_type": "display_data"
    }
   ],
   "source": [
    "plt.figure(figsize=(13, 7))\n",
    "ax = df[\"Company Size\"].value_counts().plot(kind='bar', rot=0, color=sns.color_palette(\"coolwarm\", len(df[\"Company Size\"].unique())))\n",
    "ax.set_xticklabels(['Medium', 'Large', 'Small'], fontsize=12)\n",
    "\n",
    "# Adding data labels\n",
    "for p in ax.patches:\n",
    "    ax.annotate(f'{p.get_height()}', (p.get_x() + p.get_width() / 2., p.get_height()), ha='center', va='bottom', fontsize=12)\n",
    "\n",
    "plt.xlabel('Company Size', weight=\"bold\", fontsize=14, labelpad=20)\n",
    "plt.ylabel('Number of Occurrences', weight=\"bold\", fontsize=14, labelpad=20)\n",
    "plt.title('Distribution of Jobs by Company Size', weight='bold', fontsize=16, pad=20)\n",
    "plt.xticks(fontsize=14)\n",
    "plt.yticks(fontsize=14)\n",
    "plt.grid(axis='y', linestyle='--', alpha=0.7)\n",
    "plt.tight_layout()\n",
    "plt.savefig('barchart.png')\n",
    "plt.show()\n"
   ]
  },
  {
   "cell_type": "code",
   "execution_count": 8,
   "metadata": {},
   "outputs": [
    {
     "name": "stderr",
     "output_type": "stream",
     "text": [
      "c:\\Users\\cjh05\\anaconda3\\Lib\\site-packages\\seaborn\\_oldcore.py:1119: FutureWarning: use_inf_as_na option is deprecated and will be removed in a future version. Convert inf values to NaN before operating instead.\n",
      "  with pd.option_context('mode.use_inf_as_na', True):\n",
      "c:\\Users\\cjh05\\anaconda3\\Lib\\site-packages\\seaborn\\_oldcore.py:1119: FutureWarning: use_inf_as_na option is deprecated and will be removed in a future version. Convert inf values to NaN before operating instead.\n",
      "  with pd.option_context('mode.use_inf_as_na', True):\n"
     ]
    },
    {
     "data": {
      "image/png": "[encoded data removed]",
      "text/plain": [
       "<Figure size 1300x700 with 1 Axes>"
      ]
     },
     "metadata": {},
     "output_type": "display_data"
    }
   ],
   "source": [
    "import matplotlib.pyplot as plt\n",
    "import seaborn as sns\n",
    "\n",
    "# Filter out the data for the year 2024\n",
    "df_filtered = df[df['Year'] != 2024]\n",
    "\n",
    "# Now, create the line plot without the data for 2024\n",
    "plt.figure(figsize=(13, 7))\n",
    "sns.lineplot(\n",
    "    x='Year', \n",
    "    y='Salary in USD', \n",
    "    hue='Company Size', \n",
    "    data=df_filtered, \n",
    "    palette='Set1', \n",
    "    style='Company Size', \n",
    "    markers=True, \n",
    "    dashes=False\n",
    ")\n",
    "\n",
    "plt.title('Salary Trends by Year (excluding 2024)', fontsize=16)\n",
    "plt.xlabel('Year', fontsize=14)\n",
    "plt.ylabel('Salary in USD', fontsize=14)\n",
    "plt.legend(title='Company Size', title_fontsize='13', fontsize='12')\n",
    "plt.tight_layout()  # Use tight_layout to automatically adjust subplot params\n",
    "plt.savefig('Trend_excluding_2024.png')\n",
    "plt.show()\n"
   ]
  },
  {
   "cell_type": "code",
   "execution_count": 9,
   "metadata": {},
   "outputs": [
    {
     "ename": "MaxRowsError",
     "evalue": "The number of rows in your dataset is greater than the maximum allowed (5000).\n\nTry enabling the VegaFusion data transformer which raises this limit by pre-evaluating data\ntransformations in Python.\n    >> import altair as alt\n    >> alt.data_transformers.enable(\"vegafusion\")\n\nOr, see https://altair-viz.github.io/user_guide/large_datasets.html for additional information\non how to plot large datasets.",
     "output_type": "error",
     "traceback": [
      "\u001b[1;31m---------------------------------------------------------------------------\u001b[0m",
      "\u001b[1;31mMaxRowsError\u001b[0m                              Traceback (most recent call last)",
      "File \u001b[1;32mc:\\Users\\cjh05\\anaconda3\\Lib\\site-packages\\altair\\vegalite\\v5\\api.py:2975\u001b[0m, in \u001b[0;36mChart.to_dict\u001b[1;34m(self, validate, format, ignore, context)\u001b[0m\n\u001b[0;32m   2971\u001b[0m     copy\u001b[38;5;241m.\u001b[39mdata \u001b[38;5;241m=\u001b[39m core\u001b[38;5;241m.\u001b[39mInlineData(values\u001b[38;5;241m=\u001b[39m[{}])  \u001b[38;5;66;03m# type: ignore[assignment]\u001b[39;00m\n\u001b[0;32m   2972\u001b[0m     \u001b[38;5;28;01mreturn\u001b[39;00m \u001b[38;5;28msuper\u001b[39m(Chart, copy)\u001b[38;5;241m.\u001b[39mto_dict(\n\u001b[0;32m   2973\u001b[0m         validate\u001b[38;5;241m=\u001b[39mvalidate, \u001b[38;5;28mformat\u001b[39m\u001b[38;5;241m=\u001b[39m\u001b[38;5;28mformat\u001b[39m, ignore\u001b[38;5;241m=\u001b[39mignore, context\u001b[38;5;241m=\u001b[39mcontext\n\u001b[0;32m   2974\u001b[0m     )\n\u001b[1;32m-> 2975\u001b[0m \u001b[38;5;28;01mreturn\u001b[39;00m \u001b[38;5;28msuper\u001b[39m()\u001b[38;5;241m.\u001b[39mto_dict(\n\u001b[0;32m   2976\u001b[0m     validate\u001b[38;5;241m=\u001b[39mvalidate, \u001b[38;5;28mformat\u001b[39m\u001b[38;5;241m=\u001b[39m\u001b[38;5;28mformat\u001b[39m, ignore\u001b[38;5;241m=\u001b[39mignore, context\u001b[38;5;241m=\u001b[39mcontext\n\u001b[0;32m   2977\u001b[0m )\n",
      "File \u001b[1;32mc:\\Users\\cjh05\\anaconda3\\Lib\\site-packages\\altair\\vegalite\\v5\\api.py:950\u001b[0m, in \u001b[0;36mTopLevelMixin.to_dict\u001b[1;34m(self, validate, format, ignore, context)\u001b[0m\n\u001b[0;32m    948\u001b[0m copy \u001b[38;5;241m=\u001b[39m \u001b[38;5;28mself\u001b[39m\u001b[38;5;241m.\u001b[39mcopy(deep\u001b[38;5;241m=\u001b[39m\u001b[38;5;28;01mFalse\u001b[39;00m)  \u001b[38;5;66;03m# type: ignore[attr-defined]\u001b[39;00m\n\u001b[0;32m    949\u001b[0m original_data \u001b[38;5;241m=\u001b[39m \u001b[38;5;28mgetattr\u001b[39m(copy, \u001b[38;5;124m\"\u001b[39m\u001b[38;5;124mdata\u001b[39m\u001b[38;5;124m\"\u001b[39m, Undefined)\n\u001b[1;32m--> 950\u001b[0m copy\u001b[38;5;241m.\u001b[39mdata \u001b[38;5;241m=\u001b[39m _prepare_data(original_data, context)\n\u001b[0;32m    952\u001b[0m \u001b[38;5;28;01mif\u001b[39;00m original_data \u001b[38;5;129;01mis\u001b[39;00m \u001b[38;5;129;01mnot\u001b[39;00m Undefined:\n\u001b[0;32m    953\u001b[0m     context[\u001b[38;5;124m\"\u001b[39m\u001b[38;5;124mdata\u001b[39m\u001b[38;5;124m\"\u001b[39m] \u001b[38;5;241m=\u001b[39m original_data\n",
      "File \u001b[1;32mc:\\Users\\cjh05\\anaconda3\\Lib\\site-packages\\altair\\vegalite\\v5\\api.py:111\u001b[0m, in \u001b[0;36m_prepare_data\u001b[1;34m(data, context)\u001b[0m\n\u001b[0;32m    109\u001b[0m \u001b[38;5;66;03m# convert dataframes  or objects with __geo_interface__ to dict\u001b[39;00m\n\u001b[0;32m    110\u001b[0m \u001b[38;5;28;01melif\u001b[39;00m \u001b[38;5;28misinstance\u001b[39m(data, pd\u001b[38;5;241m.\u001b[39mDataFrame) \u001b[38;5;129;01mor\u001b[39;00m \u001b[38;5;28mhasattr\u001b[39m(data, \u001b[38;5;124m\"\u001b[39m\u001b[38;5;124m__geo_interface__\u001b[39m\u001b[38;5;124m\"\u001b[39m):\n\u001b[1;32m--> 111\u001b[0m     data \u001b[38;5;241m=\u001b[39m _pipe(data, data_transformers\u001b[38;5;241m.\u001b[39mget())\n\u001b[0;32m    113\u001b[0m \u001b[38;5;66;03m# convert string input to a URLData\u001b[39;00m\n\u001b[0;32m    114\u001b[0m \u001b[38;5;28;01melif\u001b[39;00m \u001b[38;5;28misinstance\u001b[39m(data, \u001b[38;5;28mstr\u001b[39m):\n",
      "File \u001b[1;32mc:\\Users\\cjh05\\anaconda3\\Lib\\site-packages\\toolz\\functoolz.py:628\u001b[0m, in \u001b[0;36mpipe\u001b[1;34m(data, *funcs)\u001b[0m\n\u001b[0;32m    608\u001b[0m \u001b[38;5;250m\u001b[39m\u001b[38;5;124;03m\"\"\" Pipe a value through a sequence of functions\u001b[39;00m\n\u001b[0;32m    609\u001b[0m \n\u001b[0;32m    610\u001b[0m \u001b[38;5;124;03mI.e. ``pipe(data, f, g, h)`` is equivalent to ``h(g(f(data)))``\u001b[39;00m\n\u001b[1;32m   (...)\u001b[0m\n\u001b[0;32m    625\u001b[0m \u001b[38;5;124;03m    thread_last\u001b[39;00m\n\u001b[0;32m    626\u001b[0m \u001b[38;5;124;03m\"\"\"\u001b[39;00m\n\u001b[0;32m    627\u001b[0m \u001b[38;5;28;01mfor\u001b[39;00m func \u001b[38;5;129;01min\u001b[39;00m funcs:\n\u001b[1;32m--> 628\u001b[0m     data \u001b[38;5;241m=\u001b[39m func(data)\n\u001b[0;32m    629\u001b[0m \u001b[38;5;28;01mreturn\u001b[39;00m data\n",
      "File \u001b[1;32mc:\\Users\\cjh05\\anaconda3\\Lib\\site-packages\\toolz\\functoolz.py:304\u001b[0m, in \u001b[0;36mcurry.__call__\u001b[1;34m(self, *args, **kwargs)\u001b[0m\n\u001b[0;32m    302\u001b[0m \u001b[38;5;28;01mdef\u001b[39;00m \u001b[38;5;21m__call__\u001b[39m(\u001b[38;5;28mself\u001b[39m, \u001b[38;5;241m*\u001b[39margs, \u001b[38;5;241m*\u001b[39m\u001b[38;5;241m*\u001b[39mkwargs):\n\u001b[0;32m    303\u001b[0m     \u001b[38;5;28;01mtry\u001b[39;00m:\n\u001b[1;32m--> 304\u001b[0m         \u001b[38;5;28;01mreturn\u001b[39;00m \u001b[38;5;28mself\u001b[39m\u001b[38;5;241m.\u001b[39m_partial(\u001b[38;5;241m*\u001b[39margs, \u001b[38;5;241m*\u001b[39m\u001b[38;5;241m*\u001b[39mkwargs)\n\u001b[0;32m    305\u001b[0m     \u001b[38;5;28;01mexcept\u001b[39;00m \u001b[38;5;167;01mTypeError\u001b[39;00m \u001b[38;5;28;01mas\u001b[39;00m exc:\n\u001b[0;32m    306\u001b[0m         \u001b[38;5;28;01mif\u001b[39;00m \u001b[38;5;28mself\u001b[39m\u001b[38;5;241m.\u001b[39m_should_curry(args, kwargs, exc):\n",
      "File \u001b[1;32mc:\\Users\\cjh05\\anaconda3\\Lib\\site-packages\\altair\\vegalite\\data.py:23\u001b[0m, in \u001b[0;36mdefault_data_transformer\u001b[1;34m(data, max_rows)\u001b[0m\n\u001b[0;32m     19\u001b[0m \u001b[38;5;129m@curried\u001b[39m\u001b[38;5;241m.\u001b[39mcurry\n\u001b[0;32m     20\u001b[0m \u001b[38;5;28;01mdef\u001b[39;00m \u001b[38;5;21mdefault_data_transformer\u001b[39m(\n\u001b[0;32m     21\u001b[0m     data: DataType, max_rows: \u001b[38;5;28mint\u001b[39m \u001b[38;5;241m=\u001b[39m \u001b[38;5;241m5000\u001b[39m\n\u001b[0;32m     22\u001b[0m ) \u001b[38;5;241m-\u001b[39m\u001b[38;5;241m>\u001b[39m ToValuesReturnType:\n\u001b[1;32m---> 23\u001b[0m     \u001b[38;5;28;01mreturn\u001b[39;00m curried\u001b[38;5;241m.\u001b[39mpipe(data, limit_rows(max_rows\u001b[38;5;241m=\u001b[39mmax_rows), to_values)\n",
      "File \u001b[1;32mc:\\Users\\cjh05\\anaconda3\\Lib\\site-packages\\toolz\\functoolz.py:628\u001b[0m, in \u001b[0;36mpipe\u001b[1;34m(data, *funcs)\u001b[0m\n\u001b[0;32m    608\u001b[0m \u001b[38;5;250m\u001b[39m\u001b[38;5;124;03m\"\"\" Pipe a value through a sequence of functions\u001b[39;00m\n\u001b[0;32m    609\u001b[0m \n\u001b[0;32m    610\u001b[0m \u001b[38;5;124;03mI.e. ``pipe(data, f, g, h)`` is equivalent to ``h(g(f(data)))``\u001b[39;00m\n\u001b[1;32m   (...)\u001b[0m\n\u001b[0;32m    625\u001b[0m \u001b[38;5;124;03m    thread_last\u001b[39;00m\n\u001b[0;32m    626\u001b[0m \u001b[38;5;124;03m\"\"\"\u001b[39;00m\n\u001b[0;32m    627\u001b[0m \u001b[38;5;28;01mfor\u001b[39;00m func \u001b[38;5;129;01min\u001b[39;00m funcs:\n\u001b[1;32m--> 628\u001b[0m     data \u001b[38;5;241m=\u001b[39m func(data)\n\u001b[0;32m    629\u001b[0m \u001b[38;5;28;01mreturn\u001b[39;00m data\n",
      "File \u001b[1;32mc:\\Users\\cjh05\\anaconda3\\Lib\\site-packages\\toolz\\functoolz.py:304\u001b[0m, in \u001b[0;36mcurry.__call__\u001b[1;34m(self, *args, **kwargs)\u001b[0m\n\u001b[0;32m    302\u001b[0m \u001b[38;5;28;01mdef\u001b[39;00m \u001b[38;5;21m__call__\u001b[39m(\u001b[38;5;28mself\u001b[39m, \u001b[38;5;241m*\u001b[39margs, \u001b[38;5;241m*\u001b[39m\u001b[38;5;241m*\u001b[39mkwargs):\n\u001b[0;32m    303\u001b[0m     \u001b[38;5;28;01mtry\u001b[39;00m:\n\u001b[1;32m--> 304\u001b[0m         \u001b[38;5;28;01mreturn\u001b[39;00m \u001b[38;5;28mself\u001b[39m\u001b[38;5;241m.\u001b[39m_partial(\u001b[38;5;241m*\u001b[39margs, \u001b[38;5;241m*\u001b[39m\u001b[38;5;241m*\u001b[39mkwargs)\n\u001b[0;32m    305\u001b[0m     \u001b[38;5;28;01mexcept\u001b[39;00m \u001b[38;5;167;01mTypeError\u001b[39;00m \u001b[38;5;28;01mas\u001b[39;00m exc:\n\u001b[0;32m    306\u001b[0m         \u001b[38;5;28;01mif\u001b[39;00m \u001b[38;5;28mself\u001b[39m\u001b[38;5;241m.\u001b[39m_should_curry(args, kwargs, exc):\n",
      "File \u001b[1;32mc:\\Users\\cjh05\\anaconda3\\Lib\\site-packages\\altair\\utils\\data.py:118\u001b[0m, in \u001b[0;36mlimit_rows\u001b[1;34m(data, max_rows)\u001b[0m\n\u001b[0;32m    115\u001b[0m     \u001b[38;5;28;01mreturn\u001b[39;00m pa_table\n\u001b[0;32m    117\u001b[0m \u001b[38;5;28;01mif\u001b[39;00m max_rows \u001b[38;5;129;01mis\u001b[39;00m \u001b[38;5;129;01mnot\u001b[39;00m \u001b[38;5;28;01mNone\u001b[39;00m \u001b[38;5;129;01mand\u001b[39;00m \u001b[38;5;28mlen\u001b[39m(values) \u001b[38;5;241m>\u001b[39m max_rows:\n\u001b[1;32m--> 118\u001b[0m     raise_max_rows_error()\n\u001b[0;32m    120\u001b[0m \u001b[38;5;28;01mreturn\u001b[39;00m data\n",
      "File \u001b[1;32mc:\\Users\\cjh05\\anaconda3\\Lib\\site-packages\\altair\\utils\\data.py:81\u001b[0m, in \u001b[0;36mlimit_rows.<locals>.raise_max_rows_error\u001b[1;34m()\u001b[0m\n\u001b[0;32m     80\u001b[0m \u001b[38;5;28;01mdef\u001b[39;00m \u001b[38;5;21mraise_max_rows_error\u001b[39m():\n\u001b[1;32m---> 81\u001b[0m     \u001b[38;5;28;01mraise\u001b[39;00m MaxRowsError(\n\u001b[0;32m     82\u001b[0m         \u001b[38;5;124m\"\u001b[39m\u001b[38;5;124mThe number of rows in your dataset is greater \u001b[39m\u001b[38;5;124m\"\u001b[39m\n\u001b[0;32m     83\u001b[0m         \u001b[38;5;124mf\u001b[39m\u001b[38;5;124m\"\u001b[39m\u001b[38;5;124mthan the maximum allowed (\u001b[39m\u001b[38;5;132;01m{\u001b[39;00mmax_rows\u001b[38;5;132;01m}\u001b[39;00m\u001b[38;5;124m).\u001b[39m\u001b[38;5;130;01m\\n\u001b[39;00m\u001b[38;5;130;01m\\n\u001b[39;00m\u001b[38;5;124m\"\u001b[39m\n\u001b[0;32m     84\u001b[0m         \u001b[38;5;124m\"\u001b[39m\u001b[38;5;124mTry enabling the VegaFusion data transformer which \u001b[39m\u001b[38;5;124m\"\u001b[39m\n\u001b[0;32m     85\u001b[0m         \u001b[38;5;124m\"\u001b[39m\u001b[38;5;124mraises this limit by pre-evaluating data\u001b[39m\u001b[38;5;130;01m\\n\u001b[39;00m\u001b[38;5;124m\"\u001b[39m\n\u001b[0;32m     86\u001b[0m         \u001b[38;5;124m\"\u001b[39m\u001b[38;5;124mtransformations in Python.\u001b[39m\u001b[38;5;130;01m\\n\u001b[39;00m\u001b[38;5;124m\"\u001b[39m\n\u001b[0;32m     87\u001b[0m         \u001b[38;5;124m\"\u001b[39m\u001b[38;5;124m    >> import altair as alt\u001b[39m\u001b[38;5;130;01m\\n\u001b[39;00m\u001b[38;5;124m\"\u001b[39m\n\u001b[0;32m     88\u001b[0m         \u001b[38;5;124m'\u001b[39m\u001b[38;5;124m    >> alt.data_transformers.enable(\u001b[39m\u001b[38;5;124m\"\u001b[39m\u001b[38;5;124mvegafusion\u001b[39m\u001b[38;5;124m\"\u001b[39m\u001b[38;5;124m)\u001b[39m\u001b[38;5;130;01m\\n\u001b[39;00m\u001b[38;5;130;01m\\n\u001b[39;00m\u001b[38;5;124m'\u001b[39m\n\u001b[0;32m     89\u001b[0m         \u001b[38;5;124m\"\u001b[39m\u001b[38;5;124mOr, see https://altair-viz.github.io/user_guide/large_datasets.html \u001b[39m\u001b[38;5;124m\"\u001b[39m\n\u001b[0;32m     90\u001b[0m         \u001b[38;5;124m\"\u001b[39m\u001b[38;5;124mfor additional information\u001b[39m\u001b[38;5;130;01m\\n\u001b[39;00m\u001b[38;5;124m\"\u001b[39m\n\u001b[0;32m     91\u001b[0m         \u001b[38;5;124m\"\u001b[39m\u001b[38;5;124mon how to plot large datasets.\u001b[39m\u001b[38;5;124m\"\u001b[39m\n\u001b[0;32m     92\u001b[0m     )\n",
      "\u001b[1;31mMaxRowsError\u001b[0m: The number of rows in your dataset is greater than the maximum allowed (5000).\n\nTry enabling the VegaFusion data transformer which raises this limit by pre-evaluating data\ntransformations in Python.\n    >> import altair as alt\n    >> alt.data_transformers.enable(\"vegafusion\")\n\nOr, see https://altair-viz.github.io/user_guide/large_datasets.html for additional information\non how to plot large datasets."
     ]
    },
    {
     "data": {
      "text/plain": [
       "alt.Chart(...)"
      ]
     },
     "execution_count": 9,
     "metadata": {},
     "output_type": "execute_result"
    }
   ],
   "source": [
    "import altair as alt\n",
    "\n",
    "# Creating a box plot in Altair\n",
    "alt_boxplot = alt.Chart(df).mark_boxplot().encode(\n",
    "    x='Employment Type:N',\n",
    "    y='Salary in USD:Q',\n",
    "    color='Employment Type:N',\n",
    "    tooltip=['Employment Type:N', 'Salary in USD:Q', 'Job Title:N']\n",
    ").properties(\n",
    "    width=750,\n",
    "    height=350,\n",
    "    title='Salary Distribution by Employment Type'\n",
    ").configure_axis(\n",
    "    labelFontSize=20,\n",
    "    titleFontSize=20\n",
    ")\n",
    "\n",
    "alt_boxplot.save('altair_box_plot.html')\n",
    "alt_boxplot\n"
   ]
  },
  {
   "cell_type": "code",
   "execution_count": 10,
   "metadata": {},
   "outputs": [
    {
     "data": {
      "application/vnd.plotly.v1+json": {
       "config": {
        "plotlyServerURL": "https://plot.ly"
       },
       "data": [
        {
         "customdata": [
          [
           "Entry"
          ],
          [
           "Entry"
          ],
          [
           "Entry"
          ],
          [
           "Entry"
          ],
          [
           "Entry"
          ],
          [
           "Entry"
          ],
          [
           "Entry"
          ],
          [
           "Entry"
          ],
          [
           "Entry"
          ],
          [
           "Entry"
          ],
          [
           "Entry"
          ],
          [
           "Entry"
          ],
          [
           "Entry"
          ],
          [
           "Entry"
          ],
          [
           "Entry"
          ],
          [
           "Entry"
          ]
         ],
         "hovertemplate": "Experience Level=%{customdata[0]}<br>Job Title=%{x}<br>Salary in USD=%{marker.size}<extra></extra>",
         "legendgroup": "Entry",
         "marker": {
          "color": "#636efa",
          "size": [
           28296.5,
           94317.57142857143,
           180420,
           76763.25,
           77233.75539568346,
           81020.05555555556,
           89575,
           59829.833333333336,
           82052.1170212766,
           105000,
           92595.8,
           97558.03703703704,
           113224,
           78805.38461538461,
           118936.88888888889,
           144914.1052631579
          ],
          "sizemode": "area",
          "sizeref": 683.0195061728396,
          "symbol": "circle"
         },
         "mode": "markers",
         "name": "Entry",
         "orientation": "v",
         "showlegend": true,
         "type": "scatter",
         "x": [
          "AI Engineer",
          "Analytics Engineer",
          "Applied Scientist",
          "Business Intelligence Analyst",
          "Data Analyst",
          "Data Engineer",
          "Data Manager",
          "Data Science Consultant",
          "Data Scientist",
          "Data Specialist",
          "ML Engineer",
          "Machine Learning Engineer",
          "Machine Learning Scientist",
          "Research Analyst",
          "Research Engineer",
          "Research Scientist"
         ],
         "xaxis": "x",
         "y": [
          28296.5,
          94317.57142857143,
          180420,
          76763.25,
          77233.75539568346,
          81020.05555555556,
          89575,
          59829.833333333336,
          82052.1170212766,
          105000,
          92595.8,
          97558.03703703704,
          113224,
          78805.38461538461,
          118936.88888888889,
          144914.1052631579
         ],
         "yaxis": "y"
        },
        {
         "customdata": [
          [
           "Mid"
          ],
          [
           "Mid"
          ],
          [
           "Mid"
          ],
          [
           "Mid"
          ],
          [
           "Mid"
          ],
          [
           "Mid"
          ],
          [
           "Mid"
          ],
          [
           "Mid"
          ],
          [
           "Mid"
          ],
          [
           "Mid"
          ],
          [
           "Mid"
          ],
          [
           "Mid"
          ],
          [
           "Mid"
          ],
          [
           "Mid"
          ],
          [
           "Mid"
          ],
          [
           "Mid"
          ],
          [
           "Mid"
          ],
          [
           "Mid"
          ],
          [
           "Mid"
          ],
          [
           "Mid"
          ]
         ],
         "hovertemplate": "Experience Level=%{customdata[0]}<br>Job Title=%{x}<br>Salary in USD=%{marker.size}<extra></extra>",
         "legendgroup": "Mid",
         "marker": {
          "color": "#EF553B",
          "size": [
           156693.64285714287,
           151274,
           164099.23076923078,
           107744.72727272728,
           102984.72727272728,
           95394.85046728973,
           134673.6,
           116803.0198019802,
           105499.80952380953,
           169900,
           69745.55555555556,
           164924.33333333334,
           111362.12,
           95854.54545454546,
           146285.22727272726,
           142455.53636363638,
           194150,
           88857.14285714286,
           153018,
           164530.67307692306
          ],
          "sizemode": "area",
          "sizeref": 683.0195061728396,
          "symbol": "circle"
         },
         "mode": "markers",
         "name": "Mid",
         "orientation": "v",
         "showlegend": true,
         "type": "scatter",
         "x": [
          "AI Engineer",
          "Analytics Engineer",
          "Applied Scientist",
          "Business Intelligence Analyst",
          "Business Intelligence Engineer",
          "Data Analyst",
          "Data Architect",
          "Data Engineer",
          "Data Manager",
          "Data Science",
          "Data Science Consultant",
          "Data Science Manager",
          "Data Scientist",
          "Data Specialist",
          "ML Engineer",
          "Machine Learning Engineer",
          "Machine Learning Scientist",
          "Research Analyst",
          "Research Engineer",
          "Research Scientist"
         ],
         "xaxis": "x",
         "y": [
          156693.64285714287,
          151274,
          164099.23076923078,
          107744.72727272728,
          102984.72727272728,
          95394.85046728973,
          134673.6,
          116803.0198019802,
          105499.80952380953,
          169900,
          69745.55555555556,
          164924.33333333334,
          111362.12,
          95854.54545454546,
          146285.22727272726,
          142455.53636363638,
          194150,
          88857.14285714286,
          153018,
          164530.67307692306
         ],
         "yaxis": "y"
        },
        {
         "customdata": [
          [
           "Senior"
          ],
          [
           "Senior"
          ],
          [
           "Senior"
          ],
          [
           "Senior"
          ],
          [
           "Senior"
          ],
          [
           "Senior"
          ],
          [
           "Senior"
          ],
          [
           "Senior"
          ],
          [
           "Senior"
          ],
          [
           "Senior"
          ],
          [
           "Senior"
          ],
          [
           "Senior"
          ],
          [
           "Senior"
          ],
          [
           "Senior"
          ],
          [
           "Senior"
          ],
          [
           "Senior"
          ],
          [
           "Senior"
          ],
          [
           "Senior"
          ],
          [
           "Senior"
          ],
          [
           "Senior"
          ]
         ],
         "hovertemplate": "Experience Level=%{customdata[0]}<br>Job Title=%{x}<br>Salary in USD=%{marker.size}<extra></extra>",
         "legendgroup": "Senior",
         "marker": {
          "color": "#00cc96",
          "size": [
           176705.86666666667,
           160405.50931677019,
           192840.42857142858,
           131142.875,
           150170,
           123415.68058968059,
           165303.78787878787,
           155562.18045112782,
           120807.03225806452,
           144695.1851851852,
           126504.59090909091,
           181519.9344262295,
           170607.50302114803,
           110131.25,
           221298.32,
           188336.15789473685,
           186363.11111111112,
           122464.125,
           189518.55405405405,
           186533.8058252427
          ],
          "sizemode": "area",
          "sizeref": 683.0195061728396,
          "symbol": "circle"
         },
         "mode": "markers",
         "name": "Senior",
         "orientation": "v",
         "showlegend": true,
         "type": "scatter",
         "x": [
          "AI Engineer",
          "Analytics Engineer",
          "Applied Scientist",
          "Business Intelligence Analyst",
          "Business Intelligence Engineer",
          "Data Analyst",
          "Data Architect",
          "Data Engineer",
          "Data Manager",
          "Data Science",
          "Data Science Consultant",
          "Data Science Manager",
          "Data Scientist",
          "Data Specialist",
          "ML Engineer",
          "Machine Learning Engineer",
          "Machine Learning Scientist",
          "Research Analyst",
          "Research Engineer",
          "Research Scientist"
         ],
         "xaxis": "x",
         "y": [
          176705.86666666667,
          160405.50931677019,
          192840.42857142858,
          131142.875,
          150170,
          123415.68058968059,
          165303.78787878787,
          155562.18045112782,
          120807.03225806452,
          144695.1851851852,
          126504.59090909091,
          181519.9344262295,
          170607.50302114803,
          110131.25,
          221298.32,
          188336.15789473685,
          186363.11111111112,
          122464.125,
          189518.55405405405,
          186533.8058252427
         ],
         "yaxis": "y"
        },
        {
         "customdata": [
          [
           "Executive"
          ],
          [
           "Executive"
          ],
          [
           "Executive"
          ],
          [
           "Executive"
          ],
          [
           "Executive"
          ],
          [
           "Executive"
          ],
          [
           "Executive"
          ],
          [
           "Executive"
          ],
          [
           "Executive"
          ],
          [
           "Executive"
          ],
          [
           "Executive"
          ],
          [
           "Executive"
          ],
          [
           "Executive"
          ]
         ],
         "hovertemplate": "Experience Level=%{customdata[0]}<br>Job Title=%{x}<br>Salary in USD=%{marker.size}<extra></extra>",
         "legendgroup": "Executive",
         "marker": {
          "color": "#ab63fa",
          "size": [
           185916.66666666666,
           209850,
           116875,
           167500,
           196358.36,
           94710.85714285714,
           193000,
           69741,
           194128.57142857142,
           185008.1,
           190950,
           190000,
           163017.66666666666
          ],
          "sizemode": "area",
          "sizeref": 683.0195061728396,
          "symbol": "circle"
         },
         "mode": "markers",
         "name": "Executive",
         "orientation": "v",
         "showlegend": true,
         "type": "scatter",
         "x": [
          "Analytics Engineer",
          "Business Intelligence Engineer",
          "Data Analyst",
          "Data Architect",
          "Data Engineer",
          "Data Manager",
          "Data Science",
          "Data Science Consultant",
          "Data Science Manager",
          "Data Scientist",
          "Machine Learning Engineer",
          "Machine Learning Scientist",
          "Research Scientist"
         ],
         "xaxis": "x",
         "y": [
          185916.66666666666,
          209850,
          116875,
          167500,
          196358.36,
          94710.85714285714,
          193000,
          69741,
          194128.57142857142,
          185008.1,
          190950,
          190000,
          163017.66666666666
         ],
         "yaxis": "y"
        }
       ],
       "layout": {
        "height": 600,
        "legend": {
         "itemsizing": "constant",
         "title": {
          "text": "Experience Level"
         },
         "tracegroupgap": 0
        },
        "template": {
         "data": {
          "bar": [
           {
            "error_x": {
             "color": "#2a3f5f"
            },
            "error_y": {
             "color": "#2a3f5f"
            },
            "marker": {
             "line": {
              "color": "#E5ECF6",
              "width": 0.5
             },
             "pattern": {
              "fillmode": "overlay",
              "size": 10,
              "solidity": 0.2
             }
            },
            "type": "bar"
           }
          ],
          "barpolar": [
           {
            "marker": {
             "line": {
              "color": "#E5ECF6",
              "width": 0.5
             },
             "pattern": {
              "fillmode": "overlay",
              "size": 10,
              "solidity": 0.2
             }
            },
            "type": "barpolar"
           }
          ],
          "carpet": [
           {
            "aaxis": {
             "endlinecolor": "#2a3f5f",
             "gridcolor": "white",
             "linecolor": "white",
             "minorgridcolor": "white",
             "startlinecolor": "#2a3f5f"
            },
            "baxis": {
             "endlinecolor": "#2a3f5f",
             "gridcolor": "white",
             "linecolor": "white",
             "minorgridcolor": "white",
             "startlinecolor": "#2a3f5f"
            },
            "type": "carpet"
           }
          ],
          "choropleth": [
           {
            "colorbar": {
             "outlinewidth": 0,
             "ticks": ""
            },
            "type": "choropleth"
           }
          ],
          "contour": [
           {
            "colorbar": {
             "outlinewidth": 0,
             "ticks": ""
            },
            "colorscale": [
             [
              0,
              "#0d0887"
             ],
             [
              0.1111111111111111,
              "#46039f"
             ],
             [
              0.2222222222222222,
              "#7201a8"
             ],
             [
              0.3333333333333333,
              "#9c179e"
             ],
             [
              0.4444444444444444,
              "#bd3786"
             ],
             [
              0.5555555555555556,
              "#d8576b"
             ],
             [
              0.6666666666666666,
              "#ed7953"
             ],
             [
              0.7777777777777778,
              "#fb9f3a"
             ],
             [
              0.8888888888888888,
              "#fdca26"
             ],
             [
              1,
              "#f0f921"
             ]
            ],
            "type": "contour"
           }
          ],
          "contourcarpet": [
           {
            "colorbar": {
             "outlinewidth": 0,
             "ticks": ""
            },
            "type": "contourcarpet"
           }
          ],
          "heatmap": [
           {
            "colorbar": {
             "outlinewidth": 0,
             "ticks": ""
            },
            "colorscale": [
             [
              0,
              "#0d0887"
             ],
             [
              0.1111111111111111,
              "#46039f"
             ],
             [
              0.2222222222222222,
              "#7201a8"
             ],
             [
              0.3333333333333333,
              "#9c179e"
             ],
             [
              0.4444444444444444,
              "#bd3786"
             ],
             [
              0.5555555555555556,
              "#d8576b"
             ],
             [
              0.6666666666666666,
              "#ed7953"
             ],
             [
              0.7777777777777778,
              "#fb9f3a"
             ],
             [
              0.8888888888888888,
              "#fdca26"
             ],
             [
              1,
              "#f0f921"
             ]
            ],
            "type": "heatmap"
           }
          ],
          "heatmapgl": [
           {
            "colorbar": {
             "outlinewidth": 0,
             "ticks": ""
            },
            "colorscale": [
             [
              0,
              "#0d0887"
             ],
             [
              0.1111111111111111,
              "#46039f"
             ],
             [
              0.2222222222222222,
              "#7201a8"
             ],
             [
              0.3333333333333333,
              "#9c179e"
             ],
             [
              0.4444444444444444,
              "#bd3786"
             ],
             [
              0.5555555555555556,
              "#d8576b"
             ],
             [
              0.6666666666666666,
              "#ed7953"
             ],
             [
              0.7777777777777778,
              "#fb9f3a"
             ],
             [
              0.8888888888888888,
              "#fdca26"
             ],
             [
              1,
              "#f0f921"
             ]
            ],
            "type": "heatmapgl"
           }
          ],
          "histogram": [
           {
            "marker": {
             "pattern": {
              "fillmode": "overlay",
              "size": 10,
              "solidity": 0.2
             }
            },
            "type": "histogram"
           }
          ],
          "histogram2d": [
           {
            "colorbar": {
             "outlinewidth": 0,
             "ticks": ""
            },
            "colorscale": [
             [
              0,
              "#0d0887"
             ],
             [
              0.1111111111111111,
              "#46039f"
             ],
             [
              0.2222222222222222,
              "#7201a8"
             ],
             [
              0.3333333333333333,
              "#9c179e"
             ],
             [
              0.4444444444444444,
              "#bd3786"
             ],
             [
              0.5555555555555556,
              "#d8576b"
             ],
             [
              0.6666666666666666,
              "#ed7953"
             ],
             [
              0.7777777777777778,
              "#fb9f3a"
             ],
             [
              0.8888888888888888,
              "#fdca26"
             ],
             [
              1,
              "#f0f921"
             ]
            ],
            "type": "histogram2d"
           }
          ],
          "histogram2dcontour": [
           {
            "colorbar": {
             "outlinewidth": 0,
             "ticks": ""
            },
            "colorscale": [
             [
              0,
              "#0d0887"
             ],
             [
              0.1111111111111111,
              "#46039f"
             ],
             [
              0.2222222222222222,
              "#7201a8"
             ],
             [
              0.3333333333333333,
              "#9c179e"
             ],
             [
              0.4444444444444444,
              "#bd3786"
             ],
             [
              0.5555555555555556,
              "#d8576b"
             ],
             [
              0.6666666666666666,
              "#ed7953"
             ],
             [
              0.7777777777777778,
              "#fb9f3a"
             ],
             [
              0.8888888888888888,
              "#fdca26"
             ],
             [
              1,
              "#f0f921"
             ]
            ],
            "type": "histogram2dcontour"
           }
          ],
          "mesh3d": [
           {
            "colorbar": {
             "outlinewidth": 0,
             "ticks": ""
            },
            "type": "mesh3d"
           }
          ],
          "parcoords": [
           {
            "line": {
             "colorbar": {
              "outlinewidth": 0,
              "ticks": ""
             }
            },
            "type": "parcoords"
           }
          ],
          "pie": [
           {
            "automargin": true,
            "type": "pie"
           }
          ],
          "scatter": [
           {
            "fillpattern": {
             "fillmode": "overlay",
             "size": 10,
             "solidity": 0.2
            },
            "type": "scatter"
           }
          ],
          "scatter3d": [
           {
            "line": {
             "colorbar": {
              "outlinewidth": 0,
              "ticks": ""
             }
            },
            "marker": {
             "colorbar": {
              "outlinewidth": 0,
              "ticks": ""
             }
            },
            "type": "scatter3d"
           }
          ],
          "scattercarpet": [
           {
            "marker": {
             "colorbar": {
              "outlinewidth": 0,
              "ticks": ""
             }
            },
            "type": "scattercarpet"
           }
          ],
          "scattergeo": [
           {
            "marker": {
             "colorbar": {
              "outlinewidth": 0,
              "ticks": ""
             }
            },
            "type": "scattergeo"
           }
          ],
          "scattergl": [
           {
            "marker": {
             "colorbar": {
              "outlinewidth": 0,
              "ticks": ""
             }
            },
            "type": "scattergl"
           }
          ],
          "scattermapbox": [
           {
            "marker": {
             "colorbar": {
              "outlinewidth": 0,
              "ticks": ""
             }
            },
            "type": "scattermapbox"
           }
          ],
          "scatterpolar": [
           {
            "marker": {
             "colorbar": {
              "outlinewidth": 0,
              "ticks": ""
             }
            },
            "type": "scatterpolar"
           }
          ],
          "scatterpolargl": [
           {
            "marker": {
             "colorbar": {
              "outlinewidth": 0,
              "ticks": ""
             }
            },
            "type": "scatterpolargl"
           }
          ],
          "scatterternary": [
           {
            "marker": {
             "colorbar": {
              "outlinewidth": 0,
              "ticks": ""
             }
            },
            "type": "scatterternary"
           }
          ],
          "surface": [
           {
            "colorbar": {
             "outlinewidth": 0,
             "ticks": ""
            },
            "colorscale": [
             [
              0,
              "#0d0887"
             ],
             [
              0.1111111111111111,
              "#46039f"
             ],
             [
              0.2222222222222222,
              "#7201a8"
             ],
             [
              0.3333333333333333,
              "#9c179e"
             ],
             [
              0.4444444444444444,
              "#bd3786"
             ],
             [
              0.5555555555555556,
              "#d8576b"
             ],
             [
              0.6666666666666666,
              "#ed7953"
             ],
             [
              0.7777777777777778,
              "#fb9f3a"
             ],
             [
              0.8888888888888888,
              "#fdca26"
             ],
             [
              1,
              "#f0f921"
             ]
            ],
            "type": "surface"
           }
          ],
          "table": [
           {
            "cells": {
             "fill": {
              "color": "#EBF0F8"
             },
             "line": {
              "color": "white"
             }
            },
            "header": {
             "fill": {
              "color": "#C8D4E3"
             },
             "line": {
              "color": "white"
             }
            },
            "type": "table"
           }
          ]
         },
         "layout": {
          "annotationdefaults": {
           "arrowcolor": "#2a3f5f",
           "arrowhead": 0,
           "arrowwidth": 1
          },
          "autotypenumbers": "strict",
          "coloraxis": {
           "colorbar": {
            "outlinewidth": 0,
            "ticks": ""
           }
          },
          "colorscale": {
           "diverging": [
            [
             0,
             "#8e0152"
            ],
            [
             0.1,
             "#c51b7d"
            ],
            [
             0.2,
             "#de77ae"
            ],
            [
             0.3,
             "#f1b6da"
            ],
            [
             0.4,
             "#fde0ef"
            ],
            [
             0.5,
             "#f7f7f7"
            ],
            [
             0.6,
             "#e6f5d0"
            ],
            [
             0.7,
             "#b8e186"
            ],
            [
             0.8,
             "#7fbc41"
            ],
            [
             0.9,
             "#4d9221"
            ],
            [
             1,
             "#276419"
            ]
           ],
           "sequential": [
            [
             0,
             "#0d0887"
            ],
            [
             0.1111111111111111,
             "#46039f"
            ],
            [
             0.2222222222222222,
             "#7201a8"
            ],
            [
             0.3333333333333333,
             "#9c179e"
            ],
            [
             0.4444444444444444,
             "#bd3786"
            ],
            [
             0.5555555555555556,
             "#d8576b"
            ],
            [
             0.6666666666666666,
             "#ed7953"
            ],
            [
             0.7777777777777778,
             "#fb9f3a"
            ],
            [
             0.8888888888888888,
             "#fdca26"
            ],
            [
             1,
             "#f0f921"
            ]
           ],
           "sequentialminus": [
            [
             0,
             "#0d0887"
            ],
            [
             0.1111111111111111,
             "#46039f"
            ],
            [
             0.2222222222222222,
             "#7201a8"
            ],
            [
             0.3333333333333333,
             "#9c179e"
            ],
            [
             0.4444444444444444,
             "#bd3786"
            ],
            [
             0.5555555555555556,
             "#d8576b"
            ],
            [
             0.6666666666666666,
             "#ed7953"
            ],
            [
             0.7777777777777778,
             "#fb9f3a"
            ],
            [
             0.8888888888888888,
             "#fdca26"
            ],
            [
             1,
             "#f0f921"
            ]
           ]
          },
          "colorway": [
           "#636efa",
           "#EF553B",
           "#00cc96",
           "#ab63fa",
           "#FFA15A",
           "#19d3f3",
           "#FF6692",
           "#B6E880",
           "#FF97FF",
           "#FECB52"
          ],
          "font": {
           "color": "#2a3f5f"
          },
          "geo": {
           "bgcolor": "white",
           "lakecolor": "white",
           "landcolor": "#E5ECF6",
           "showlakes": true,
           "showland": true,
           "subunitcolor": "white"
          },
          "hoverlabel": {
           "align": "left"
          },
          "hovermode": "closest",
          "mapbox": {
           "style": "light"
          },
          "paper_bgcolor": "white",
          "plot_bgcolor": "#E5ECF6",
          "polar": {
           "angularaxis": {
            "gridcolor": "white",
            "linecolor": "white",
            "ticks": ""
           },
           "bgcolor": "#E5ECF6",
           "radialaxis": {
            "gridcolor": "white",
            "linecolor": "white",
            "ticks": ""
           }
          },
          "scene": {
           "xaxis": {
            "backgroundcolor": "#E5ECF6",
            "gridcolor": "white",
            "gridwidth": 2,
            "linecolor": "white",
            "showbackground": true,
            "ticks": "",
            "zerolinecolor": "white"
           },
           "yaxis": {
            "backgroundcolor": "#E5ECF6",
            "gridcolor": "white",
            "gridwidth": 2,
            "linecolor": "white",
            "showbackground": true,
            "ticks": "",
            "zerolinecolor": "white"
           },
           "zaxis": {
            "backgroundcolor": "#E5ECF6",
            "gridcolor": "white",
            "gridwidth": 2,
            "linecolor": "white",
            "showbackground": true,
            "ticks": "",
            "zerolinecolor": "white"
           }
          },
          "shapedefaults": {
           "line": {
            "color": "#2a3f5f"
           }
          },
          "ternary": {
           "aaxis": {
            "gridcolor": "white",
            "linecolor": "white",
            "ticks": ""
           },
           "baxis": {
            "gridcolor": "white",
            "linecolor": "white",
            "ticks": ""
           },
           "bgcolor": "#E5ECF6",
           "caxis": {
            "gridcolor": "white",
            "linecolor": "white",
            "ticks": ""
           }
          },
          "title": {
           "x": 0.05
          },
          "xaxis": {
           "automargin": true,
           "gridcolor": "white",
           "linecolor": "white",
           "ticks": "",
           "title": {
            "standoff": 15
           },
           "zerolinecolor": "white",
           "zerolinewidth": 2
          },
          "yaxis": {
           "automargin": true,
           "gridcolor": "white",
           "linecolor": "white",
           "ticks": "",
           "title": {
            "standoff": 15
           },
           "zerolinecolor": "white",
           "zerolinewidth": 2
          }
         }
        },
        "title": {
         "text": "Median Salary Analysis for Top 20 Most Common Job Titles by Experience Level"
        },
        "xaxis": {
         "anchor": "y",
         "categoryorder": "total descending",
         "domain": [
          0,
          1
         ],
         "tickangle": -45,
         "title": {
          "text": "Job Title"
         }
        },
        "yaxis": {
         "anchor": "x",
         "domain": [
          0,
          1
         ],
         "title": {
          "text": "Salary in USD"
         }
        }
       }
      }
     },
     "metadata": {},
     "output_type": "display_data"
    }
   ],
   "source": [
    "import plotly.express as px\n",
    "import pandas as pd\n",
    "\n",
    "# Filtering for the top 30 most frequent job titles\n",
    "top_20_titles = df['Job Title'].value_counts().head(20).index\n",
    "filtered_df = df[df['Job Title'].isin(top_20_titles)]\n",
    "\n",
    "# Aggregating the data to show the average salary for each job title and experience level\n",
    "agg_df = filtered_df.groupby(['Job Title', 'Experience Level'], as_index=False)['Salary in USD'].mean()\n",
    "\n",
    "# Creating an interactive scatter plot with aggregated data for the top 30 most frequent job titles\n",
    "fig = px.scatter(agg_df, x=\"Job Title\", y=\"Salary in USD\",\n",
    "                 color=\"Experience Level\", size=\"Salary in USD\",\n",
    "                 hover_data=['Job Title', 'Experience Level'],\n",
    "                 title=\"Median Salary Analysis for Top 20 Most Common Job Titles by Experience Level\",\n",
    "                 size_max=18)\n",
    "\n",
    "# Improving layout for better readability\n",
    "fig.update_layout(xaxis={'categoryorder':'total descending', 'tickangle':-45},\n",
    "                  height=600)\n",
    "\n",
    "fig.show()\n",
    "fig.write_html('scatter.html')\n",
    "\n"
   ]
  },
  {
   "cell_type": "code",
   "execution_count": 12,
   "metadata": {},
   "outputs": [
    {
     "data": {
      "application/vnd.plotly.v1+json": {
       "config": {
        "plotlyServerURL": "https://plot.ly"
       },
       "data": [
        {
         "coloraxis": "coloraxis",
         "customdata": [
          [
           100000,
           100000,
           null,
           100000,
           100000,
           100000,
           100000,
           1
          ],
          [
           45555,
           45555,
           null,
           45555,
           45555,
           45555,
           45555,
           1
          ],
          [
           50745,
           50745,
           null,
           50745,
           50745,
           50745,
           50745,
           1
          ],
          [
           60000,
           56444.444444444445,
           14655.29862465374,
           30000,
           48000,
           60000,
           80000,
           9
          ],
          [
           33500,
           33500,
           23334.52377915607,
           17000,
           25250,
           41750,
           50000,
           2
          ],
          [
           102927,
           122815.12,
           79245.34323296227,
           40000,
           67635,
           150000,
           300000,
           25
          ],
          [
           68059.5,
           71187.33333333333,
           16658.20943158858,
           50000,
           60843.75,
           85512,
           91237,
           6
          ],
          [
           83398.5,
           95565.83333333333,
           61330.620764563166,
           50000,
           59692,
           87503.75,
           215936,
           6
          ],
          [
           75000,
           75000,
           0,
           75000,
           75000,
           75000,
           75000,
           2
          ],
          [
           120000,
           120000,
           null,
           120000,
           120000,
           120000,
           120000,
           1
          ],
          [
           60000,
           66088.15789473684,
           37175.076633356206,
           18907,
           40145,
           81000,
           160000,
           19
          ],
          [
           80000,
           80000,
           null,
           80000,
           80000,
           80000,
           80000,
           1
          ],
          [
           133850,
           140612.71759259258,
           56978.11035541074,
           40747,
           98328.25,
           176500,
           306400,
           216
          ],
          [
           49216,
           49216,
           8700.24183571928,
           43064,
           46140,
           52292,
           55368,
           2
          ],
          [
           72519,
           72519,
           45935.0707194405,
           40038,
           56278.5,
           88759.5,
           105000,
           2
          ],
          [
           125404,
           125404,
           null,
           125404,
           125404,
           125404,
           125404,
           1
          ],
          [
           71000,
           74774.57142857143,
           28396.707397741855,
           21844,
           60000,
           87000,
           131000,
           14
          ],
          [
           20000,
           20000,
           null,
           20000,
           20000,
           20000,
           20000,
           1
          ],
          [
           59721,
           66294.5,
           33855.593703256774,
           35000,
           42963.5,
           83052,
           110736,
           4
          ],
          [
           63701,
           63701,
           null,
           63701,
           63701,
           63701,
           63701,
           1
          ],
          [
           59999.5,
           59999.5,
           14141.428516949763,
           50000,
           54999.75,
           64999.25,
           69999,
           2
          ],
          [
           28609,
           31192.666666666668,
           13596.868475253164,
           19073,
           23841,
           37252.5,
           45896,
           3
          ],
          [
           110000,
           110000,
           null,
           110000,
           110000,
           110000,
           110000,
           1
          ],
          [
           16000,
           16000,
           null,
           16000,
           16000,
           16000,
           16000,
           1
          ],
          [
           46400,
           46400,
           33375.44007200504,
           22800,
           34600,
           58200,
           70000,
           2
          ],
          [
           41459.5,
           43780,
           9635.871181609447,
           31520,
           37572.5,
           53120,
           57007,
           8
          ],
          [
           68961.5,
           68961.5,
           8374.265609592283,
           63040,
           66000.75,
           71922.25,
           74883,
           2
          ],
          [
           64781,
           81232.24528301887,
           56180.1832146784,
           20000,
           51824,
           84053,
           323905,
           53
          ],
          [
           57000,
           57000,
           null,
           57000,
           57000,
           57000,
           57000,
           1
          ],
          [
           81943,
           100150.14705882352,
           57569.91471952927,
           15966,
           63554.75,
           124642.25,
           275000,
           68
          ],
          [
           33000,
           34250,
           16977.926846349645,
           15000,
           26250,
           41000,
           56000,
           4
          ],
          [
           47899,
           52200.153846153844,
           22376.916058914205,
           19434,
           40189,
           68428,
           88654,
           13
          ],
          [
           20000,
           20000,
           null,
           20000,
           20000,
           20000,
           20000,
           1
          ],
          [
           65540,
           65540,
           681.6509370638319,
           65058,
           65299,
           65781,
           66022,
           2
          ],
          [
           35997,
           33169.5,
           10840.760136325005,
           17684,
           31222.25,
           37944.25,
           43000,
           4
          ],
          [
           32314.5,
           46255.26470588235,
           39127.544040933026,
           15809,
           20504.75,
           54751.25,
           200000,
           68
          ],
          [
           15000,
           15000,
           null,
           15000,
           15000,
           15000,
           15000,
           1
          ],
          [
           100000,
           100000,
           null,
           100000,
           100000,
           100000,
           100000,
           1
          ],
          [
           100000,
           100000,
           null,
           100000,
           100000,
           100000,
           100000,
           1
          ],
          [
           98585.5,
           107633.9,
           36393.915365834924,
           68293,
           84343,
           110954.75,
           172309,
           10
          ],
          [
           417937,
           417937,
           null,
           417937,
           417937,
           417937,
           417937,
           1
          ],
          [
           52524,
           55388.85,
           31236.333276414876,
           20000,
           32172.75,
           68764.5,
           153667,
           20
          ],
          [
           68855.5,
           95821.625,
           78354.48266680179,
           40000,
           41779,
           100023,
           260000,
           8
          ],
          [
           100000,
           100000,
           null,
           100000,
           100000,
           100000,
           100000,
           1
          ],
          [
           65000,
           65000,
           21213.203435596424,
           50000,
           57500,
           72500,
           80000,
           2
          ],
          [
           47000,
           47000,
           9899.494936611665,
           40000,
           43500,
           50500,
           54000,
           2
          ],
          [
           50000,
           50000,
           null,
           50000,
           50000,
           50000,
           50000,
           1
          ],
          [
           59080,
           58626.333333333336,
           21084.487090433733,
           38868,
           39256.75,
           77737,
           78125,
           6
          ],
          [
           94812,
           97611,
           21864.88268129209,
           79032,
           79141.5,
           113281.5,
           121788,
           4
          ],
          [
           59102,
           59102,
           null,
           59102,
           59102,
           59102,
           59102,
           1
          ],
          [
           200000,
           200000,
           null,
           200000,
           200000,
           200000,
           200000,
           1
          ],
          [
           28369,
           28369,
           null,
           28369,
           28369,
           28369,
           28369,
           1
          ],
          [
           100000,
           100000,
           null,
           100000,
           100000,
           100000,
           100000,
           1
          ],
          [
           72000,
           98351.1,
           74838.78852343587,
           30000,
           42000,
           135000,
           255000,
           10
          ],
          [
           66500,
           66500,
           68589.35777509511,
           18000,
           42250,
           90750,
           115000,
           2
          ],
          [
           73546,
           77743.76190476191,
           31629.98822621463,
           32390,
           54634,
           97171,
           134960,
           21
          ],
          [
           125000,
           151634.33333333334,
           46797.831427677644,
           124233,
           124616.5,
           165335,
           205670,
           3
          ],
          [
           45000,
           52416.666666666664,
           49059.25606917217,
           15000,
           27500,
           52500,
           200000,
           12
          ],
          [
           88462,
           88462,
           16905.508924607977,
           76508,
           82485,
           94439,
           100416,
           2
          ],
          [
           40000,
           38536.166666666664,
           15523.82260162318,
           20000,
           25750,
           51056.5,
           55475,
           6
          ],
          [
           27000,
           27000,
           null,
           27000,
           27000,
           27000,
           27000,
           1
          ],
          [
           50000,
           59915.42857142857,
           32959.36629071794,
           15680,
           40380,
           82500,
           107968,
           7
          ],
          [
           46565,
           57253.36363636364,
           31763.272706925924,
           18160,
           38398,
           72390.5,
           114047,
           11
          ],
          [
           52082,
           55351.892857142855,
           28923.271287166986,
           21013,
           35459.75,
           69552.75,
           150000,
           28
          ],
          [
           160000,
           166000,
           32672.618505409082,
           135000,
           135000,
           200000,
           200000,
           5
          ],
          [
           300000,
           300000,
           null,
           300000,
           300000,
           300000,
           300000,
           1
          ],
          [
           46426,
           48922.5,
           21839.715878799034,
           26005,
           35652.25,
           59696.25,
           76833,
           4
          ],
          [
           54000,
           79242.5,
           77355.70332884318,
           16455,
           39000,
           78750,
           230000,
           6
          ],
          [
           134999,
           134999,
           63638.19609322691,
           90000,
           112499.5,
           157498.5,
           179998,
           2
          ],
          [
           25532,
           25532,
           null,
           25532,
           25532,
           25532,
           25532,
           1
          ],
          [
           74883,
           83092.6,
           22234.453451794132,
           65257,
           66970,
           89294,
           119059,
           5
          ],
          [
           47505.5,
           56186.333333333336,
           28245.696958415927,
           24823,
           40757.5,
           68829,
           102839,
           6
          ],
          [
           40581,
           62935.4,
           38457.9620663914,
           34482,
           38629,
           76050,
           124935,
           5
          ],
          [
           52634,
           62923.359375,
           38533.323565811574,
           21593,
           40751.5,
           73546,
           253750,
           64
          ],
          [
           105000,
           105000,
           35355.33905932738,
           80000,
           92500,
           117500,
           130000,
           2
          ],
          [
           104697,
           101659.4,
           26656.735955476623,
           56536,
           104024,
           120402,
           122638,
           5
          ],
          [
           26957,
           32228.5,
           19447.737837599518,
           15000,
           22209.75,
           36975.75,
           60000,
           4
          ],
          [
           90234.5,
           90234.5,
           84521.18066200921,
           30469,
           60351.75,
           120117.25,
           150000,
           2
          ],
          [
           25000,
           35213.142857142855,
           29139.19017651069,
           18381,
           20085.5,
           31470,
           100000,
           7
          ],
          [
           36000,
           36000,
           null,
           36000,
           36000,
           36000,
           36000,
           1
          ],
          [
           60000,
           107571.42857142857,
           87452.5721803103,
           25000,
           50000,
           164000,
           240000,
           7
          ],
          [
           115000,
           100000,
           30413.8126514911,
           65000,
           90000,
           117500,
           120000,
           3
          ],
          [
           92280,
           104433.5972972973,
           63770.76511287354,
           28299,
           61520,
           123363.25,
           430967,
           370
          ],
          [
           149000,
           157671.8354374308,
           66694.46462973148,
           24000,
           110550,
           195000,
           750000,
           4515
          ],
          [
           100000,
           82000,
           36496.57518178932,
           40000,
           70000,
           103000,
           106000,
           3
          ],
          [
           50000,
           58480,
           18834.861294949853,
           38400,
           48000,
           72000,
           84000,
           5
          ]
         ],
         "geo": "geo",
         "hovertemplate": "<b>%{hovertext}</b><br><br>Employee Residence=%{location}<br>median=%{z:,.0f}<br>mean=%{customdata[1]:,.0f}<br>std=%{customdata[2]:,.0f}<br>min=%{customdata[3]:,.0f}<br>25%=%{customdata[4]:,.0f}<br>75%=%{customdata[5]:,.0f}<br>max=%{customdata[6]:,.0f}<br>count=%{customdata[7]:,.0f}<extra></extra>",
         "hovertext": [
          "Algeria",
          "American Samoa",
          "Andorra",
          "Argentina",
          "Armenia",
          "Australia",
          "Austria",
          "Belgium",
          "Bolivia, Plurinational State of",
          "Bosnia and Herzegovina",
          "Brazil",
          "Bulgaria",
          "Canada",
          "Central African Republic",
          "Chile",
          "China",
          "Colombia",
          "Costa Rica",
          "Croatia",
          "Cyprus",
          "Czechia",
          "Denmark",
          "Dominican Republic",
          "Ecuador",
          "Egypt",
          "Estonia",
          "Finland",
          "France",
          "Georgia",
          "Germany",
          "Ghana",
          "Greece",
          "Honduras",
          "Hong Kong",
          "Hungary",
          "India",
          "Indonesia",
          "Iran, Islamic Republic of",
          "Iraq",
          "Ireland",
          "Israel",
          "Italy",
          "Japan",
          "Jersey",
          "Kenya",
          "Korea, Republic of",
          "Kuwait",
          "Latvia",
          "Lithuania",
          "Luxembourg",
          "Malaysia",
          "Malta",
          "Mauritius",
          "Mexico",
          "Moldova, Republic of",
          "Netherlands",
          "New Zealand",
          "Nigeria",
          "Norway",
          "Pakistan",
          "Peru",
          "Philippines",
          "Poland",
          "Portugal",
          "Puerto Rico",
          "Qatar",
          "Romania",
          "Russian Federation",
          "Saudi Arabia",
          "Serbia",
          "Singapore",
          "Slovenia",
          "South Africa",
          "Spain",
          "Sweden",
          "Switzerland",
          "Thailand",
          "Tunisia",
          "Turkey",
          "Uganda",
          "Ukraine",
          "United Arab Emirates",
          "United Kingdom",
          "United States",
          "Uzbekistan",
          "Viet Nam"
         ],
         "locationmode": "country names",
         "locations": [
          "Algeria",
          "American Samoa",
          "Andorra",
          "Argentina",
          "Armenia",
          "Australia",
          "Austria",
          "Belgium",
          "Bolivia, Plurinational State of",
          "Bosnia and Herzegovina",
          "Brazil",
          "Bulgaria",
          "Canada",
          "Central African Republic",
          "Chile",
          "China",
          "Colombia",
          "Costa Rica",
          "Croatia",
          "Cyprus",
          "Czechia",
          "Denmark",
          "Dominican Republic",
          "Ecuador",
          "Egypt",
          "Estonia",
          "Finland",
          "France",
          "Georgia",
          "Germany",
          "Ghana",
          "Greece",
          "Honduras",
          "Hong Kong",
          "Hungary",
          "India",
          "Indonesia",
          "Iran, Islamic Republic of",
          "Iraq",
          "Ireland",
          "Israel",
          "Italy",
          "Japan",
          "Jersey",
          "Kenya",
          "Korea, Republic of",
          "Kuwait",
          "Latvia",
          "Lithuania",
          "Luxembourg",
          "Malaysia",
          "Malta",
          "Mauritius",
          "Mexico",
          "Moldova, Republic of",
          "Netherlands",
          "New Zealand",
          "Nigeria",
          "Norway",
          "Pakistan",
          "Peru",
          "Philippines",
          "Poland",
          "Portugal",
          "Puerto Rico",
          "Qatar",
          "Romania",
          "Russian Federation",
          "Saudi Arabia",
          "Serbia",
          "Singapore",
          "Slovenia",
          "South Africa",
          "Spain",
          "Sweden",
          "Switzerland",
          "Thailand",
          "Tunisia",
          "Turkey",
          "Uganda",
          "Ukraine",
          "United Arab Emirates",
          "United Kingdom",
          "United States",
          "Uzbekistan",
          "Viet Nam"
         ],
         "name": "",
         "type": "choropleth",
         "z": [
          100000,
          45555,
          50745,
          60000,
          33500,
          102927,
          68059.5,
          83398.5,
          75000,
          120000,
          60000,
          80000,
          133850,
          49216,
          72519,
          125404,
          71000,
          20000,
          59721,
          63701,
          59999.5,
          28609,
          110000,
          16000,
          46400,
          41459.5,
          68961.5,
          64781,
          57000,
          81943,
          33000,
          47899,
          20000,
          65540,
          35997,
          32314.5,
          15000,
          100000,
          100000,
          98585.5,
          417937,
          52524,
          68855.5,
          100000,
          65000,
          47000,
          50000,
          59080,
          94812,
          59102,
          200000,
          28369,
          100000,
          72000,
          66500,
          73546,
          125000,
          45000,
          88462,
          40000,
          27000,
          50000,
          46565,
          52082,
          160000,
          300000,
          46426,
          54000,
          134999,
          25532,
          74883,
          47505.5,
          40581,
          52634,
          105000,
          104697,
          26957,
          90234.5,
          25000,
          36000,
          60000,
          115000,
          92280,
          149000,
          100000,
          50000
         ]
        }
       ],
       "layout": {
        "coloraxis": {
         "cmax": 250000,
         "cmin": 0,
         "colorbar": {
          "title": {
           "text": "Median Salary in USD"
          }
         },
         "colorscale": [
          [
           0,
           "#440154"
          ],
          [
           0.1111111111111111,
           "#482878"
          ],
          [
           0.2222222222222222,
           "#3e4989"
          ],
          [
           0.3333333333333333,
           "#31688e"
          ],
          [
           0.4444444444444444,
           "#26828e"
          ],
          [
           0.5555555555555556,
           "#1f9e89"
          ],
          [
           0.6666666666666666,
           "#35b779"
          ],
          [
           0.7777777777777778,
           "#6ece58"
          ],
          [
           0.8888888888888888,
           "#b5de2b"
          ],
          [
           1,
           "#fde725"
          ]
         ]
        },
        "geo": {
         "center": {},
         "domain": {
          "x": [
           0,
           1
          ],
          "y": [
           0,
           1
          ]
         }
        },
        "height": 800,
        "legend": {
         "tracegroupgap": 0
        },
        "template": {
         "data": {
          "bar": [
           {
            "error_x": {
             "color": "#2a3f5f"
            },
            "error_y": {
             "color": "#2a3f5f"
            },
            "marker": {
             "line": {
              "color": "#E5ECF6",
              "width": 0.5
             },
             "pattern": {
              "fillmode": "overlay",
              "size": 10,
              "solidity": 0.2
             }
            },
            "type": "bar"
           }
          ],
          "barpolar": [
           {
            "marker": {
             "line": {
              "color": "#E5ECF6",
              "width": 0.5
             },
             "pattern": {
              "fillmode": "overlay",
              "size": 10,
              "solidity": 0.2
             }
            },
            "type": "barpolar"
           }
          ],
          "carpet": [
           {
            "aaxis": {
             "endlinecolor": "#2a3f5f",
             "gridcolor": "white",
             "linecolor": "white",
             "minorgridcolor": "white",
             "startlinecolor": "#2a3f5f"
            },
            "baxis": {
             "endlinecolor": "#2a3f5f",
             "gridcolor": "white",
             "linecolor": "white",
             "minorgridcolor": "white",
             "startlinecolor": "#2a3f5f"
            },
            "type": "carpet"
           }
          ],
          "choropleth": [
           {
            "colorbar": {
             "outlinewidth": 0,
             "ticks": ""
            },
            "type": "choropleth"
           }
          ],
          "contour": [
           {
            "colorbar": {
             "outlinewidth": 0,
             "ticks": ""
            },
            "colorscale": [
             [
              0,
              "#0d0887"
             ],
             [
              0.1111111111111111,
              "#46039f"
             ],
             [
              0.2222222222222222,
              "#7201a8"
             ],
             [
              0.3333333333333333,
              "#9c179e"
             ],
             [
              0.4444444444444444,
              "#bd3786"
             ],
             [
              0.5555555555555556,
              "#d8576b"
             ],
             [
              0.6666666666666666,
              "#ed7953"
             ],
             [
              0.7777777777777778,
              "#fb9f3a"
             ],
             [
              0.8888888888888888,
              "#fdca26"
             ],
             [
              1,
              "#f0f921"
             ]
            ],
            "type": "contour"
           }
          ],
          "contourcarpet": [
           {
            "colorbar": {
             "outlinewidth": 0,
             "ticks": ""
            },
            "type": "contourcarpet"
           }
          ],
          "heatmap": [
           {
            "colorbar": {
             "outlinewidth": 0,
             "ticks": ""
            },
            "colorscale": [
             [
              0,
              "#0d0887"
             ],
             [
              0.1111111111111111,
              "#46039f"
             ],
             [
              0.2222222222222222,
              "#7201a8"
             ],
             [
              0.3333333333333333,
              "#9c179e"
             ],
             [
              0.4444444444444444,
              "#bd3786"
             ],
             [
              0.5555555555555556,
              "#d8576b"
             ],
             [
              0.6666666666666666,
              "#ed7953"
             ],
             [
              0.7777777777777778,
              "#fb9f3a"
             ],
             [
              0.8888888888888888,
              "#fdca26"
             ],
             [
              1,
              "#f0f921"
             ]
            ],
            "type": "heatmap"
           }
          ],
          "heatmapgl": [
           {
            "colorbar": {
             "outlinewidth": 0,
             "ticks": ""
            },
            "colorscale": [
             [
              0,
              "#0d0887"
             ],
             [
              0.1111111111111111,
              "#46039f"
             ],
             [
              0.2222222222222222,
              "#7201a8"
             ],
             [
              0.3333333333333333,
              "#9c179e"
             ],
             [
              0.4444444444444444,
              "#bd3786"
             ],
             [
              0.5555555555555556,
              "#d8576b"
             ],
             [
              0.6666666666666666,
              "#ed7953"
             ],
             [
              0.7777777777777778,
              "#fb9f3a"
             ],
             [
              0.8888888888888888,
              "#fdca26"
             ],
             [
              1,
              "#f0f921"
             ]
            ],
            "type": "heatmapgl"
           }
          ],
          "histogram": [
           {
            "marker": {
             "pattern": {
              "fillmode": "overlay",
              "size": 10,
              "solidity": 0.2
             }
            },
            "type": "histogram"
           }
          ],
          "histogram2d": [
           {
            "colorbar": {
             "outlinewidth": 0,
             "ticks": ""
            },
            "colorscale": [
             [
              0,
              "#0d0887"
             ],
             [
              0.1111111111111111,
              "#46039f"
             ],
             [
              0.2222222222222222,
              "#7201a8"
             ],
             [
              0.3333333333333333,
              "#9c179e"
             ],
             [
              0.4444444444444444,
              "#bd3786"
             ],
             [
              0.5555555555555556,
              "#d8576b"
             ],
             [
              0.6666666666666666,
              "#ed7953"
             ],
             [
              0.7777777777777778,
              "#fb9f3a"
             ],
             [
              0.8888888888888888,
              "#fdca26"
             ],
             [
              1,
              "#f0f921"
             ]
            ],
            "type": "histogram2d"
           }
          ],
          "histogram2dcontour": [
           {
            "colorbar": {
             "outlinewidth": 0,
             "ticks": ""
            },
            "colorscale": [
             [
              0,
              "#0d0887"
             ],
             [
              0.1111111111111111,
              "#46039f"
             ],
             [
              0.2222222222222222,
              "#7201a8"
             ],
             [
              0.3333333333333333,
              "#9c179e"
             ],
             [
              0.4444444444444444,
              "#bd3786"
             ],
             [
              0.5555555555555556,
              "#d8576b"
             ],
             [
              0.6666666666666666,
              "#ed7953"
             ],
             [
              0.7777777777777778,
              "#fb9f3a"
             ],
             [
              0.8888888888888888,
              "#fdca26"
             ],
             [
              1,
              "#f0f921"
             ]
            ],
            "type": "histogram2dcontour"
           }
          ],
          "mesh3d": [
           {
            "colorbar": {
             "outlinewidth": 0,
             "ticks": ""
            },
            "type": "mesh3d"
           }
          ],
          "parcoords": [
           {
            "line": {
             "colorbar": {
              "outlinewidth": 0,
              "ticks": ""
             }
            },
            "type": "parcoords"
           }
          ],
          "pie": [
           {
            "automargin": true,
            "type": "pie"
           }
          ],
          "scatter": [
           {
            "fillpattern": {
             "fillmode": "overlay",
             "size": 10,
             "solidity": 0.2
            },
            "type": "scatter"
           }
          ],
          "scatter3d": [
           {
            "line": {
             "colorbar": {
              "outlinewidth": 0,
              "ticks": ""
             }
            },
            "marker": {
             "colorbar": {
              "outlinewidth": 0,
              "ticks": ""
             }
            },
            "type": "scatter3d"
           }
          ],
          "scattercarpet": [
           {
            "marker": {
             "colorbar": {
              "outlinewidth": 0,
              "ticks": ""
             }
            },
            "type": "scattercarpet"
           }
          ],
          "scattergeo": [
           {
            "marker": {
             "colorbar": {
              "outlinewidth": 0,
              "ticks": ""
             }
            },
            "type": "scattergeo"
           }
          ],
          "scattergl": [
           {
            "marker": {
             "colorbar": {
              "outlinewidth": 0,
              "ticks": ""
             }
            },
            "type": "scattergl"
           }
          ],
          "scattermapbox": [
           {
            "marker": {
             "colorbar": {
              "outlinewidth": 0,
              "ticks": ""
             }
            },
            "type": "scattermapbox"
           }
          ],
          "scatterpolar": [
           {
            "marker": {
             "colorbar": {
              "outlinewidth": 0,
              "ticks": ""
             }
            },
            "type": "scatterpolar"
           }
          ],
          "scatterpolargl": [
           {
            "marker": {
             "colorbar": {
              "outlinewidth": 0,
              "ticks": ""
             }
            },
            "type": "scatterpolargl"
           }
          ],
          "scatterternary": [
           {
            "marker": {
             "colorbar": {
              "outlinewidth": 0,
              "ticks": ""
             }
            },
            "type": "scatterternary"
           }
          ],
          "surface": [
           {
            "colorbar": {
             "outlinewidth": 0,
             "ticks": ""
            },
            "colorscale": [
             [
              0,
              "#0d0887"
             ],
             [
              0.1111111111111111,
              "#46039f"
             ],
             [
              0.2222222222222222,
              "#7201a8"
             ],
             [
              0.3333333333333333,
              "#9c179e"
             ],
             [
              0.4444444444444444,
              "#bd3786"
             ],
             [
              0.5555555555555556,
              "#d8576b"
             ],
             [
              0.6666666666666666,
              "#ed7953"
             ],
             [
              0.7777777777777778,
              "#fb9f3a"
             ],
             [
              0.8888888888888888,
              "#fdca26"
             ],
             [
              1,
              "#f0f921"
             ]
            ],
            "type": "surface"
           }
          ],
          "table": [
           {
            "cells": {
             "fill": {
              "color": "#EBF0F8"
             },
             "line": {
              "color": "white"
             }
            },
            "header": {
             "fill": {
              "color": "#C8D4E3"
             },
             "line": {
              "color": "white"
             }
            },
            "type": "table"
           }
          ]
         },
         "layout": {
          "annotationdefaults": {
           "arrowcolor": "#2a3f5f",
           "arrowhead": 0,
           "arrowwidth": 1
          },
          "autotypenumbers": "strict",
          "coloraxis": {
           "colorbar": {
            "outlinewidth": 0,
            "ticks": ""
           }
          },
          "colorscale": {
           "diverging": [
            [
             0,
             "#8e0152"
            ],
            [
             0.1,
             "#c51b7d"
            ],
            [
             0.2,
             "#de77ae"
            ],
            [
             0.3,
             "#f1b6da"
            ],
            [
             0.4,
             "#fde0ef"
            ],
            [
             0.5,
             "#f7f7f7"
            ],
            [
             0.6,
             "#e6f5d0"
            ],
            [
             0.7,
             "#b8e186"
            ],
            [
             0.8,
             "#7fbc41"
            ],
            [
             0.9,
             "#4d9221"
            ],
            [
             1,
             "#276419"
            ]
           ],
           "sequential": [
            [
             0,
             "#0d0887"
            ],
            [
             0.1111111111111111,
             "#46039f"
            ],
            [
             0.2222222222222222,
             "#7201a8"
            ],
            [
             0.3333333333333333,
             "#9c179e"
            ],
            [
             0.4444444444444444,
             "#bd3786"
            ],
            [
             0.5555555555555556,
             "#d8576b"
            ],
            [
             0.6666666666666666,
             "#ed7953"
            ],
            [
             0.7777777777777778,
             "#fb9f3a"
            ],
            [
             0.8888888888888888,
             "#fdca26"
            ],
            [
             1,
             "#f0f921"
            ]
           ],
           "sequentialminus": [
            [
             0,
             "#0d0887"
            ],
            [
             0.1111111111111111,
             "#46039f"
            ],
            [
             0.2222222222222222,
             "#7201a8"
            ],
            [
             0.3333333333333333,
             "#9c179e"
            ],
            [
             0.4444444444444444,
             "#bd3786"
            ],
            [
             0.5555555555555556,
             "#d8576b"
            ],
            [
             0.6666666666666666,
             "#ed7953"
            ],
            [
             0.7777777777777778,
             "#fb9f3a"
            ],
            [
             0.8888888888888888,
             "#fdca26"
            ],
            [
             1,
             "#f0f921"
            ]
           ]
          },
          "colorway": [
           "#636efa",
           "#EF553B",
           "#00cc96",
           "#ab63fa",
           "#FFA15A",
           "#19d3f3",
           "#FF6692",
           "#B6E880",
           "#FF97FF",
           "#FECB52"
          ],
          "font": {
           "color": "#2a3f5f"
          },
          "geo": {
           "bgcolor": "white",
           "lakecolor": "white",
           "landcolor": "#E5ECF6",
           "showlakes": true,
           "showland": true,
           "subunitcolor": "white"
          },
          "hoverlabel": {
           "align": "left"
          },
          "hovermode": "closest",
          "mapbox": {
           "style": "light"
          },
          "paper_bgcolor": "white",
          "plot_bgcolor": "#E5ECF6",
          "polar": {
           "angularaxis": {
            "gridcolor": "white",
            "linecolor": "white",
            "ticks": ""
           },
           "bgcolor": "#E5ECF6",
           "radialaxis": {
            "gridcolor": "white",
            "linecolor": "white",
            "ticks": ""
           }
          },
          "scene": {
           "xaxis": {
            "backgroundcolor": "#E5ECF6",
            "gridcolor": "white",
            "gridwidth": 2,
            "linecolor": "white",
            "showbackground": true,
            "ticks": "",
            "zerolinecolor": "white"
           },
           "yaxis": {
            "backgroundcolor": "#E5ECF6",
            "gridcolor": "white",
            "gridwidth": 2,
            "linecolor": "white",
            "showbackground": true,
            "ticks": "",
            "zerolinecolor": "white"
           },
           "zaxis": {
            "backgroundcolor": "#E5ECF6",
            "gridcolor": "white",
            "gridwidth": 2,
            "linecolor": "white",
            "showbackground": true,
            "ticks": "",
            "zerolinecolor": "white"
           }
          },
          "shapedefaults": {
           "line": {
            "color": "#2a3f5f"
           }
          },
          "ternary": {
           "aaxis": {
            "gridcolor": "white",
            "linecolor": "white",
            "ticks": ""
           },
           "baxis": {
            "gridcolor": "white",
            "linecolor": "white",
            "ticks": ""
           },
           "bgcolor": "#E5ECF6",
           "caxis": {
            "gridcolor": "white",
            "linecolor": "white",
            "ticks": ""
           }
          },
          "title": {
           "x": 0.05
          },
          "xaxis": {
           "automargin": true,
           "gridcolor": "white",
           "linecolor": "white",
           "ticks": "",
           "title": {
            "standoff": 15
           },
           "zerolinecolor": "white",
           "zerolinewidth": 2
          },
          "yaxis": {
           "automargin": true,
           "gridcolor": "white",
           "linecolor": "white",
           "ticks": "",
           "title": {
            "standoff": 15
           },
           "zerolinecolor": "white",
           "zerolinewidth": 2
          }
         }
        },
        "title": {
         "text": "Enhanced Descriptive Statistics of Jobs by Country"
        },
        "width": 1500
       }
      }
     },
     "metadata": {},
     "output_type": "display_data"
    },
    {
     "data": {
      "application/vnd.plotly.v1+json": {
       "config": {
        "plotlyServerURL": "https://plot.ly"
       },
       "data": [
        {
         "coloraxis": "coloraxis",
         "customdata": [
          [
           100000,
           100000,
           null,
           100000,
           100000,
           100000,
           100000,
           1
          ],
          [
           45555,
           45555,
           null,
           45555,
           45555,
           45555,
           45555,
           1
          ],
          [
           50745,
           50745,
           null,
           50745,
           50745,
           50745,
           50745,
           1
          ],
          [
           60000,
           56444.444444444445,
           14655.29862465374,
           30000,
           48000,
           60000,
           80000,
           9
          ],
          [
           33500,
           33500,
           23334.52377915607,
           17000,
           25250,
           41750,
           50000,
           2
          ],
          [
           102927,
           122815.12,
           79245.34323296227,
           40000,
           67635,
           150000,
           300000,
           25
          ],
          [
           68059.5,
           71187.33333333333,
           16658.20943158858,
           50000,
           60843.75,
           85512,
           91237,
           6
          ],
          [
           83398.5,
           95565.83333333333,
           61330.620764563166,
           50000,
           59692,
           87503.75,
           215936,
           6
          ],
          [
           75000,
           75000,
           0,
           75000,
           75000,
           75000,
           75000,
           2
          ],
          [
           120000,
           120000,
           null,
           120000,
           120000,
           120000,
           120000,
           1
          ],
          [
           60000,
           66088.15789473684,
           37175.076633356206,
           18907,
           40145,
           81000,
           160000,
           19
          ],
          [
           80000,
           80000,
           null,
           80000,
           80000,
           80000,
           80000,
           1
          ],
          [
           133850,
           140612.71759259258,
           56978.11035541074,
           40747,
           98328.25,
           176500,
           306400,
           216
          ],
          [
           49216,
           49216,
           8700.24183571928,
           43064,
           46140,
           52292,
           55368,
           2
          ],
          [
           72519,
           72519,
           45935.0707194405,
           40038,
           56278.5,
           88759.5,
           105000,
           2
          ],
          [
           125404,
           125404,
           null,
           125404,
           125404,
           125404,
           125404,
           1
          ],
          [
           71000,
           74774.57142857143,
           28396.707397741855,
           21844,
           60000,
           87000,
           131000,
           14
          ],
          [
           20000,
           20000,
           null,
           20000,
           20000,
           20000,
           20000,
           1
          ],
          [
           59721,
           66294.5,
           33855.593703256774,
           35000,
           42963.5,
           83052,
           110736,
           4
          ],
          [
           63701,
           63701,
           null,
           63701,
           63701,
           63701,
           63701,
           1
          ],
          [
           59999.5,
           59999.5,
           14141.428516949763,
           50000,
           54999.75,
           64999.25,
           69999,
           2
          ],
          [
           28609,
           31192.666666666668,
           13596.868475253164,
           19073,
           23841,
           37252.5,
           45896,
           3
          ],
          [
           110000,
           110000,
           null,
           110000,
           110000,
           110000,
           110000,
           1
          ],
          [
           16000,
           16000,
           null,
           16000,
           16000,
           16000,
           16000,
           1
          ],
          [
           46400,
           46400,
           33375.44007200504,
           22800,
           34600,
           58200,
           70000,
           2
          ],
          [
           41459.5,
           43780,
           9635.871181609447,
           31520,
           37572.5,
           53120,
           57007,
           8
          ],
          [
           68961.5,
           68961.5,
           8374.265609592283,
           63040,
           66000.75,
           71922.25,
           74883,
           2
          ],
          [
           64781,
           81232.24528301887,
           56180.1832146784,
           20000,
           51824,
           84053,
           323905,
           53
          ],
          [
           57000,
           57000,
           null,
           57000,
           57000,
           57000,
           57000,
           1
          ],
          [
           81943,
           100150.14705882352,
           57569.91471952927,
           15966,
           63554.75,
           124642.25,
           275000,
           68
          ],
          [
           33000,
           34250,
           16977.926846349645,
           15000,
           26250,
           41000,
           56000,
           4
          ],
          [
           47899,
           52200.153846153844,
           22376.916058914205,
           19434,
           40189,
           68428,
           88654,
           13
          ],
          [
           20000,
           20000,
           null,
           20000,
           20000,
           20000,
           20000,
           1
          ],
          [
           65540,
           65540,
           681.6509370638319,
           65058,
           65299,
           65781,
           66022,
           2
          ],
          [
           35997,
           33169.5,
           10840.760136325005,
           17684,
           31222.25,
           37944.25,
           43000,
           4
          ],
          [
           32314.5,
           46255.26470588235,
           39127.544040933026,
           15809,
           20504.75,
           54751.25,
           200000,
           68
          ],
          [
           15000,
           15000,
           null,
           15000,
           15000,
           15000,
           15000,
           1
          ],
          [
           100000,
           100000,
           null,
           100000,
           100000,
           100000,
           100000,
           1
          ],
          [
           100000,
           100000,
           null,
           100000,
           100000,
           100000,
           100000,
           1
          ],
          [
           98585.5,
           107633.9,
           36393.915365834924,
           68293,
           84343,
           110954.75,
           172309,
           10
          ],
          [
           417937,
           417937,
           null,
           417937,
           417937,
           417937,
           417937,
           1
          ],
          [
           52524,
           55388.85,
           31236.333276414876,
           20000,
           32172.75,
           68764.5,
           153667,
           20
          ],
          [
           68855.5,
           95821.625,
           78354.48266680179,
           40000,
           41779,
           100023,
           260000,
           8
          ],
          [
           100000,
           100000,
           null,
           100000,
           100000,
           100000,
           100000,
           1
          ],
          [
           65000,
           65000,
           21213.203435596424,
           50000,
           57500,
           72500,
           80000,
           2
          ],
          [
           47000,
           47000,
           9899.494936611665,
           40000,
           43500,
           50500,
           54000,
           2
          ],
          [
           50000,
           50000,
           null,
           50000,
           50000,
           50000,
           50000,
           1
          ],
          [
           59080,
           58626.333333333336,
           21084.487090433733,
           38868,
           39256.75,
           77737,
           78125,
           6
          ],
          [
           94812,
           97611,
           21864.88268129209,
           79032,
           79141.5,
           113281.5,
           121788,
           4
          ],
          [
           59102,
           59102,
           null,
           59102,
           59102,
           59102,
           59102,
           1
          ],
          [
           200000,
           200000,
           null,
           200000,
           200000,
           200000,
           200000,
           1
          ],
          [
           28369,
           28369,
           null,
           28369,
           28369,
           28369,
           28369,
           1
          ],
          [
           100000,
           100000,
           null,
           100000,
           100000,
           100000,
           100000,
           1
          ],
          [
           72000,
           98351.1,
           74838.78852343587,
           30000,
           42000,
           135000,
           255000,
           10
          ],
          [
           66500,
           66500,
           68589.35777509511,
           18000,
           42250,
           90750,
           115000,
           2
          ],
          [
           73546,
           77743.76190476191,
           31629.98822621463,
           32390,
           54634,
           97171,
           134960,
           21
          ],
          [
           125000,
           151634.33333333334,
           46797.831427677644,
           124233,
           124616.5,
           165335,
           205670,
           3
          ],
          [
           45000,
           52416.666666666664,
           49059.25606917217,
           15000,
           27500,
           52500,
           200000,
           12
          ],
          [
           88462,
           88462,
           16905.508924607977,
           76508,
           82485,
           94439,
           100416,
           2
          ],
          [
           40000,
           38536.166666666664,
           15523.82260162318,
           20000,
           25750,
           51056.5,
           55475,
           6
          ],
          [
           27000,
           27000,
           null,
           27000,
           27000,
           27000,
           27000,
           1
          ],
          [
           50000,
           59915.42857142857,
           32959.36629071794,
           15680,
           40380,
           82500,
           107968,
           7
          ],
          [
           46565,
           57253.36363636364,
           31763.272706925924,
           18160,
           38398,
           72390.5,
           114047,
           11
          ],
          [
           52082,
           55351.892857142855,
           28923.271287166986,
           21013,
           35459.75,
           69552.75,
           150000,
           28
          ],
          [
           160000,
           166000,
           32672.618505409082,
           135000,
           135000,
           200000,
           200000,
           5
          ],
          [
           300000,
           300000,
           null,
           300000,
           300000,
           300000,
           300000,
           1
          ],
          [
           46426,
           48922.5,
           21839.715878799034,
           26005,
           35652.25,
           59696.25,
           76833,
           4
          ],
          [
           54000,
           79242.5,
           77355.70332884318,
           16455,
           39000,
           78750,
           230000,
           6
          ],
          [
           134999,
           134999,
           63638.19609322691,
           90000,
           112499.5,
           157498.5,
           179998,
           2
          ],
          [
           25532,
           25532,
           null,
           25532,
           25532,
           25532,
           25532,
           1
          ],
          [
           74883,
           83092.6,
           22234.453451794132,
           65257,
           66970,
           89294,
           119059,
           5
          ],
          [
           47505.5,
           56186.333333333336,
           28245.696958415927,
           24823,
           40757.5,
           68829,
           102839,
           6
          ],
          [
           40581,
           62935.4,
           38457.9620663914,
           34482,
           38629,
           76050,
           124935,
           5
          ],
          [
           52634,
           62923.359375,
           38533.323565811574,
           21593,
           40751.5,
           73546,
           253750,
           64
          ],
          [
           105000,
           105000,
           35355.33905932738,
           80000,
           92500,
           117500,
           130000,
           2
          ],
          [
           104697,
           101659.4,
           26656.735955476623,
           56536,
           104024,
           120402,
           122638,
           5
          ],
          [
           26957,
           32228.5,
           19447.737837599518,
           15000,
           22209.75,
           36975.75,
           60000,
           4
          ],
          [
           90234.5,
           90234.5,
           84521.18066200921,
           30469,
           60351.75,
           120117.25,
           150000,
           2
          ],
          [
           25000,
           35213.142857142855,
           29139.19017651069,
           18381,
           20085.5,
           31470,
           100000,
           7
          ],
          [
           36000,
           36000,
           null,
           36000,
           36000,
           36000,
           36000,
           1
          ],
          [
           60000,
           107571.42857142857,
           87452.5721803103,
           25000,
           50000,
           164000,
           240000,
           7
          ],
          [
           115000,
           100000,
           30413.8126514911,
           65000,
           90000,
           117500,
           120000,
           3
          ],
          [
           92280,
           104433.5972972973,
           63770.76511287354,
           28299,
           61520,
           123363.25,
           430967,
           370
          ],
          [
           149000,
           157671.8354374308,
           66694.46462973148,
           24000,
           110550,
           195000,
           750000,
           4515
          ],
          [
           100000,
           82000,
           36496.57518178932,
           40000,
           70000,
           103000,
           106000,
           3
          ],
          [
           50000,
           58480,
           18834.861294949853,
           38400,
           48000,
           72000,
           84000,
           5
          ]
         ],
         "geo": "geo",
         "hovertemplate": "<b>%{hovertext}</b><br><br>Employee Residence=%{location}<br>median=%{z:,.0f}<br>mean=%{customdata[1]:,.0f}<br>std=%{customdata[2]:,.0f}<br>min=%{customdata[3]:,.0f}<br>25%=%{customdata[4]:,.0f}<br>75%=%{customdata[5]:,.0f}<br>max=%{customdata[6]:,.0f}<br>count=%{customdata[7]:,.0f}<extra></extra>",
         "hovertext": [
          "Algeria",
          "American Samoa",
          "Andorra",
          "Argentina",
          "Armenia",
          "Australia",
          "Austria",
          "Belgium",
          "Bolivia, Plurinational State of",
          "Bosnia and Herzegovina",
          "Brazil",
          "Bulgaria",
          "Canada",
          "Central African Republic",
          "Chile",
          "China",
          "Colombia",
          "Costa Rica",
          "Croatia",
          "Cyprus",
          "Czechia",
          "Denmark",
          "Dominican Republic",
          "Ecuador",
          "Egypt",
          "Estonia",
          "Finland",
          "France",
          "Georgia",
          "Germany",
          "Ghana",
          "Greece",
          "Honduras",
          "Hong Kong",
          "Hungary",
          "India",
          "Indonesia",
          "Iran, Islamic Republic of",
          "Iraq",
          "Ireland",
          "Israel",
          "Italy",
          "Japan",
          "Jersey",
          "Kenya",
          "Korea, Republic of",
          "Kuwait",
          "Latvia",
          "Lithuania",
          "Luxembourg",
          "Malaysia",
          "Malta",
          "Mauritius",
          "Mexico",
          "Moldova, Republic of",
          "Netherlands",
          "New Zealand",
          "Nigeria",
          "Norway",
          "Pakistan",
          "Peru",
          "Philippines",
          "Poland",
          "Portugal",
          "Puerto Rico",
          "Qatar",
          "Romania",
          "Russian Federation",
          "Saudi Arabia",
          "Serbia",
          "Singapore",
          "Slovenia",
          "South Africa",
          "Spain",
          "Sweden",
          "Switzerland",
          "Thailand",
          "Tunisia",
          "Turkey",
          "Uganda",
          "Ukraine",
          "United Arab Emirates",
          "United Kingdom",
          "United States",
          "Uzbekistan",
          "Viet Nam"
         ],
         "locationmode": "country names",
         "locations": [
          "Algeria",
          "American Samoa",
          "Andorra",
          "Argentina",
          "Armenia",
          "Australia",
          "Austria",
          "Belgium",
          "Bolivia, Plurinational State of",
          "Bosnia and Herzegovina",
          "Brazil",
          "Bulgaria",
          "Canada",
          "Central African Republic",
          "Chile",
          "China",
          "Colombia",
          "Costa Rica",
          "Croatia",
          "Cyprus",
          "Czechia",
          "Denmark",
          "Dominican Republic",
          "Ecuador",
          "Egypt",
          "Estonia",
          "Finland",
          "France",
          "Georgia",
          "Germany",
          "Ghana",
          "Greece",
          "Honduras",
          "Hong Kong",
          "Hungary",
          "India",
          "Indonesia",
          "Iran, Islamic Republic of",
          "Iraq",
          "Ireland",
          "Israel",
          "Italy",
          "Japan",
          "Jersey",
          "Kenya",
          "Korea, Republic of",
          "Kuwait",
          "Latvia",
          "Lithuania",
          "Luxembourg",
          "Malaysia",
          "Malta",
          "Mauritius",
          "Mexico",
          "Moldova, Republic of",
          "Netherlands",
          "New Zealand",
          "Nigeria",
          "Norway",
          "Pakistan",
          "Peru",
          "Philippines",
          "Poland",
          "Portugal",
          "Puerto Rico",
          "Qatar",
          "Romania",
          "Russian Federation",
          "Saudi Arabia",
          "Serbia",
          "Singapore",
          "Slovenia",
          "South Africa",
          "Spain",
          "Sweden",
          "Switzerland",
          "Thailand",
          "Tunisia",
          "Turkey",
          "Uganda",
          "Ukraine",
          "United Arab Emirates",
          "United Kingdom",
          "United States",
          "Uzbekistan",
          "Viet Nam"
         ],
         "name": "",
         "type": "choropleth",
         "z": [
          100000,
          45555,
          50745,
          60000,
          33500,
          102927,
          68059.5,
          83398.5,
          75000,
          120000,
          60000,
          80000,
          133850,
          49216,
          72519,
          125404,
          71000,
          20000,
          59721,
          63701,
          59999.5,
          28609,
          110000,
          16000,
          46400,
          41459.5,
          68961.5,
          64781,
          57000,
          81943,
          33000,
          47899,
          20000,
          65540,
          35997,
          32314.5,
          15000,
          100000,
          100000,
          98585.5,
          417937,
          52524,
          68855.5,
          100000,
          65000,
          47000,
          50000,
          59080,
          94812,
          59102,
          200000,
          28369,
          100000,
          72000,
          66500,
          73546,
          125000,
          45000,
          88462,
          40000,
          27000,
          50000,
          46565,
          52082,
          160000,
          300000,
          46426,
          54000,
          134999,
          25532,
          74883,
          47505.5,
          40581,
          52634,
          105000,
          104697,
          26957,
          90234.5,
          25000,
          36000,
          60000,
          115000,
          92280,
          149000,
          100000,
          50000
         ]
        }
       ],
       "layout": {
        "coloraxis": {
         "cmax": 250000,
         "cmin": 0,
         "colorbar": {
          "title": {
           "text": "Median Salary in USD"
          }
         },
         "colorscale": [
          [
           0,
           "#440154"
          ],
          [
           0.1111111111111111,
           "#482878"
          ],
          [
           0.2222222222222222,
           "#3e4989"
          ],
          [
           0.3333333333333333,
           "#31688e"
          ],
          [
           0.4444444444444444,
           "#26828e"
          ],
          [
           0.5555555555555556,
           "#1f9e89"
          ],
          [
           0.6666666666666666,
           "#35b779"
          ],
          [
           0.7777777777777778,
           "#6ece58"
          ],
          [
           0.8888888888888888,
           "#b5de2b"
          ],
          [
           1,
           "#fde725"
          ]
         ]
        },
        "geo": {
         "center": {},
         "domain": {
          "x": [
           0,
           1
          ],
          "y": [
           0,
           1
          ]
         }
        },
        "height": 800,
        "legend": {
         "tracegroupgap": 0
        },
        "template": {
         "data": {
          "bar": [
           {
            "error_x": {
             "color": "#2a3f5f"
            },
            "error_y": {
             "color": "#2a3f5f"
            },
            "marker": {
             "line": {
              "color": "#E5ECF6",
              "width": 0.5
             },
             "pattern": {
              "fillmode": "overlay",
              "size": 10,
              "solidity": 0.2
             }
            },
            "type": "bar"
           }
          ],
          "barpolar": [
           {
            "marker": {
             "line": {
              "color": "#E5ECF6",
              "width": 0.5
             },
             "pattern": {
              "fillmode": "overlay",
              "size": 10,
              "solidity": 0.2
             }
            },
            "type": "barpolar"
           }
          ],
          "carpet": [
           {
            "aaxis": {
             "endlinecolor": "#2a3f5f",
             "gridcolor": "white",
             "linecolor": "white",
             "minorgridcolor": "white",
             "startlinecolor": "#2a3f5f"
            },
            "baxis": {
             "endlinecolor": "#2a3f5f",
             "gridcolor": "white",
             "linecolor": "white",
             "minorgridcolor": "white",
             "startlinecolor": "#2a3f5f"
            },
            "type": "carpet"
           }
          ],
          "choropleth": [
           {
            "colorbar": {
             "outlinewidth": 0,
             "ticks": ""
            },
            "type": "choropleth"
           }
          ],
          "contour": [
           {
            "colorbar": {
             "outlinewidth": 0,
             "ticks": ""
            },
            "colorscale": [
             [
              0,
              "#0d0887"
             ],
             [
              0.1111111111111111,
              "#46039f"
             ],
             [
              0.2222222222222222,
              "#7201a8"
             ],
             [
              0.3333333333333333,
              "#9c179e"
             ],
             [
              0.4444444444444444,
              "#bd3786"
             ],
             [
              0.5555555555555556,
              "#d8576b"
             ],
             [
              0.6666666666666666,
              "#ed7953"
             ],
             [
              0.7777777777777778,
              "#fb9f3a"
             ],
             [
              0.8888888888888888,
              "#fdca26"
             ],
             [
              1,
              "#f0f921"
             ]
            ],
            "type": "contour"
           }
          ],
          "contourcarpet": [
           {
            "colorbar": {
             "outlinewidth": 0,
             "ticks": ""
            },
            "type": "contourcarpet"
           }
          ],
          "heatmap": [
           {
            "colorbar": {
             "outlinewidth": 0,
             "ticks": ""
            },
            "colorscale": [
             [
              0,
              "#0d0887"
             ],
             [
              0.1111111111111111,
              "#46039f"
             ],
             [
              0.2222222222222222,
              "#7201a8"
             ],
             [
              0.3333333333333333,
              "#9c179e"
             ],
             [
              0.4444444444444444,
              "#bd3786"
             ],
             [
              0.5555555555555556,
              "#d8576b"
             ],
             [
              0.6666666666666666,
              "#ed7953"
             ],
             [
              0.7777777777777778,
              "#fb9f3a"
             ],
             [
              0.8888888888888888,
              "#fdca26"
             ],
             [
              1,
              "#f0f921"
             ]
            ],
            "type": "heatmap"
           }
          ],
          "heatmapgl": [
           {
            "colorbar": {
             "outlinewidth": 0,
             "ticks": ""
            },
            "colorscale": [
             [
              0,
              "#0d0887"
             ],
             [
              0.1111111111111111,
              "#46039f"
             ],
             [
              0.2222222222222222,
              "#7201a8"
             ],
             [
              0.3333333333333333,
              "#9c179e"
             ],
             [
              0.4444444444444444,
              "#bd3786"
             ],
             [
              0.5555555555555556,
              "#d8576b"
             ],
             [
              0.6666666666666666,
              "#ed7953"
             ],
             [
              0.7777777777777778,
              "#fb9f3a"
             ],
             [
              0.8888888888888888,
              "#fdca26"
             ],
             [
              1,
              "#f0f921"
             ]
            ],
            "type": "heatmapgl"
           }
          ],
          "histogram": [
           {
            "marker": {
             "pattern": {
              "fillmode": "overlay",
              "size": 10,
              "solidity": 0.2
             }
            },
            "type": "histogram"
           }
          ],
          "histogram2d": [
           {
            "colorbar": {
             "outlinewidth": 0,
             "ticks": ""
            },
            "colorscale": [
             [
              0,
              "#0d0887"
             ],
             [
              0.1111111111111111,
              "#46039f"
             ],
             [
              0.2222222222222222,
              "#7201a8"
             ],
             [
              0.3333333333333333,
              "#9c179e"
             ],
             [
              0.4444444444444444,
              "#bd3786"
             ],
             [
              0.5555555555555556,
              "#d8576b"
             ],
             [
              0.6666666666666666,
              "#ed7953"
             ],
             [
              0.7777777777777778,
              "#fb9f3a"
             ],
             [
              0.8888888888888888,
              "#fdca26"
             ],
             [
              1,
              "#f0f921"
             ]
            ],
            "type": "histogram2d"
           }
          ],
          "histogram2dcontour": [
           {
            "colorbar": {
             "outlinewidth": 0,
             "ticks": ""
            },
            "colorscale": [
             [
              0,
              "#0d0887"
             ],
             [
              0.1111111111111111,
              "#46039f"
             ],
             [
              0.2222222222222222,
              "#7201a8"
             ],
             [
              0.3333333333333333,
              "#9c179e"
             ],
             [
              0.4444444444444444,
              "#bd3786"
             ],
             [
              0.5555555555555556,
              "#d8576b"
             ],
             [
              0.6666666666666666,
              "#ed7953"
             ],
             [
              0.7777777777777778,
              "#fb9f3a"
             ],
             [
              0.8888888888888888,
              "#fdca26"
             ],
             [
              1,
              "#f0f921"
             ]
            ],
            "type": "histogram2dcontour"
           }
          ],
          "mesh3d": [
           {
            "colorbar": {
             "outlinewidth": 0,
             "ticks": ""
            },
            "type": "mesh3d"
           }
          ],
          "parcoords": [
           {
            "line": {
             "colorbar": {
              "outlinewidth": 0,
              "ticks": ""
             }
            },
            "type": "parcoords"
           }
          ],
          "pie": [
           {
            "automargin": true,
            "type": "pie"
           }
          ],
          "scatter": [
           {
            "fillpattern": {
             "fillmode": "overlay",
             "size": 10,
             "solidity": 0.2
            },
            "type": "scatter"
           }
          ],
          "scatter3d": [
           {
            "line": {
             "colorbar": {
              "outlinewidth": 0,
              "ticks": ""
             }
            },
            "marker": {
             "colorbar": {
              "outlinewidth": 0,
              "ticks": ""
             }
            },
            "type": "scatter3d"
           }
          ],
          "scattercarpet": [
           {
            "marker": {
             "colorbar": {
              "outlinewidth": 0,
              "ticks": ""
             }
            },
            "type": "scattercarpet"
           }
          ],
          "scattergeo": [
           {
            "marker": {
             "colorbar": {
              "outlinewidth": 0,
              "ticks": ""
             }
            },
            "type": "scattergeo"
           }
          ],
          "scattergl": [
           {
            "marker": {
             "colorbar": {
              "outlinewidth": 0,
              "ticks": ""
             }
            },
            "type": "scattergl"
           }
          ],
          "scattermapbox": [
           {
            "marker": {
             "colorbar": {
              "outlinewidth": 0,
              "ticks": ""
             }
            },
            "type": "scattermapbox"
           }
          ],
          "scatterpolar": [
           {
            "marker": {
             "colorbar": {
              "outlinewidth": 0,
              "ticks": ""
             }
            },
            "type": "scatterpolar"
           }
          ],
          "scatterpolargl": [
           {
            "marker": {
             "colorbar": {
              "outlinewidth": 0,
              "ticks": ""
             }
            },
            "type": "scatterpolargl"
           }
          ],
          "scatterternary": [
           {
            "marker": {
             "colorbar": {
              "outlinewidth": 0,
              "ticks": ""
             }
            },
            "type": "scatterternary"
           }
          ],
          "surface": [
           {
            "colorbar": {
             "outlinewidth": 0,
             "ticks": ""
            },
            "colorscale": [
             [
              0,
              "#0d0887"
             ],
             [
              0.1111111111111111,
              "#46039f"
             ],
             [
              0.2222222222222222,
              "#7201a8"
             ],
             [
              0.3333333333333333,
              "#9c179e"
             ],
             [
              0.4444444444444444,
              "#bd3786"
             ],
             [
              0.5555555555555556,
              "#d8576b"
             ],
             [
              0.6666666666666666,
              "#ed7953"
             ],
             [
              0.7777777777777778,
              "#fb9f3a"
             ],
             [
              0.8888888888888888,
              "#fdca26"
             ],
             [
              1,
              "#f0f921"
             ]
            ],
            "type": "surface"
           }
          ],
          "table": [
           {
            "cells": {
             "fill": {
              "color": "#EBF0F8"
             },
             "line": {
              "color": "white"
             }
            },
            "header": {
             "fill": {
              "color": "#C8D4E3"
             },
             "line": {
              "color": "white"
             }
            },
            "type": "table"
           }
          ]
         },
         "layout": {
          "annotationdefaults": {
           "arrowcolor": "#2a3f5f",
           "arrowhead": 0,
           "arrowwidth": 1
          },
          "autotypenumbers": "strict",
          "coloraxis": {
           "colorbar": {
            "outlinewidth": 0,
            "ticks": ""
           }
          },
          "colorscale": {
           "diverging": [
            [
             0,
             "#8e0152"
            ],
            [
             0.1,
             "#c51b7d"
            ],
            [
             0.2,
             "#de77ae"
            ],
            [
             0.3,
             "#f1b6da"
            ],
            [
             0.4,
             "#fde0ef"
            ],
            [
             0.5,
             "#f7f7f7"
            ],
            [
             0.6,
             "#e6f5d0"
            ],
            [
             0.7,
             "#b8e186"
            ],
            [
             0.8,
             "#7fbc41"
            ],
            [
             0.9,
             "#4d9221"
            ],
            [
             1,
             "#276419"
            ]
           ],
           "sequential": [
            [
             0,
             "#0d0887"
            ],
            [
             0.1111111111111111,
             "#46039f"
            ],
            [
             0.2222222222222222,
             "#7201a8"
            ],
            [
             0.3333333333333333,
             "#9c179e"
            ],
            [
             0.4444444444444444,
             "#bd3786"
            ],
            [
             0.5555555555555556,
             "#d8576b"
            ],
            [
             0.6666666666666666,
             "#ed7953"
            ],
            [
             0.7777777777777778,
             "#fb9f3a"
            ],
            [
             0.8888888888888888,
             "#fdca26"
            ],
            [
             1,
             "#f0f921"
            ]
           ],
           "sequentialminus": [
            [
             0,
             "#0d0887"
            ],
            [
             0.1111111111111111,
             "#46039f"
            ],
            [
             0.2222222222222222,
             "#7201a8"
            ],
            [
             0.3333333333333333,
             "#9c179e"
            ],
            [
             0.4444444444444444,
             "#bd3786"
            ],
            [
             0.5555555555555556,
             "#d8576b"
            ],
            [
             0.6666666666666666,
             "#ed7953"
            ],
            [
             0.7777777777777778,
             "#fb9f3a"
            ],
            [
             0.8888888888888888,
             "#fdca26"
            ],
            [
             1,
             "#f0f921"
            ]
           ]
          },
          "colorway": [
           "#636efa",
           "#EF553B",
           "#00cc96",
           "#ab63fa",
           "#FFA15A",
           "#19d3f3",
           "#FF6692",
           "#B6E880",
           "#FF97FF",
           "#FECB52"
          ],
          "font": {
           "color": "#2a3f5f"
          },
          "geo": {
           "bgcolor": "white",
           "lakecolor": "white",
           "landcolor": "#E5ECF6",
           "showlakes": true,
           "showland": true,
           "subunitcolor": "white"
          },
          "hoverlabel": {
           "align": "left"
          },
          "hovermode": "closest",
          "mapbox": {
           "style": "light"
          },
          "paper_bgcolor": "white",
          "plot_bgcolor": "#E5ECF6",
          "polar": {
           "angularaxis": {
            "gridcolor": "white",
            "linecolor": "white",
            "ticks": ""
           },
           "bgcolor": "#E5ECF6",
           "radialaxis": {
            "gridcolor": "white",
            "linecolor": "white",
            "ticks": ""
           }
          },
          "scene": {
           "xaxis": {
            "backgroundcolor": "#E5ECF6",
            "gridcolor": "white",
            "gridwidth": 2,
            "linecolor": "white",
            "showbackground": true,
            "ticks": "",
            "zerolinecolor": "white"
           },
           "yaxis": {
            "backgroundcolor": "#E5ECF6",
            "gridcolor": "white",
            "gridwidth": 2,
            "linecolor": "white",
            "showbackground": true,
            "ticks": "",
            "zerolinecolor": "white"
           },
           "zaxis": {
            "backgroundcolor": "#E5ECF6",
            "gridcolor": "white",
            "gridwidth": 2,
            "linecolor": "white",
            "showbackground": true,
            "ticks": "",
            "zerolinecolor": "white"
           }
          },
          "shapedefaults": {
           "line": {
            "color": "#2a3f5f"
           }
          },
          "ternary": {
           "aaxis": {
            "gridcolor": "white",
            "linecolor": "white",
            "ticks": ""
           },
           "baxis": {
            "gridcolor": "white",
            "linecolor": "white",
            "ticks": ""
           },
           "bgcolor": "#E5ECF6",
           "caxis": {
            "gridcolor": "white",
            "linecolor": "white",
            "ticks": ""
           }
          },
          "title": {
           "x": 0.05
          },
          "xaxis": {
           "automargin": true,
           "gridcolor": "white",
           "linecolor": "white",
           "ticks": "",
           "title": {
            "standoff": 15
           },
           "zerolinecolor": "white",
           "zerolinewidth": 2
          },
          "yaxis": {
           "automargin": true,
           "gridcolor": "white",
           "linecolor": "white",
           "ticks": "",
           "title": {
            "standoff": 15
           },
           "zerolinecolor": "white",
           "zerolinewidth": 2
          }
         }
        },
        "title": {
         "text": "Enhanced Descriptive Statistics of Jobs by Country"
        },
        "width": 1500
       }
      }
     },
     "metadata": {},
     "output_type": "display_data"
    }
   ],
   "source": [
    "import plotly.express as px\n",
    "import pandas as pd\n",
    "\n",
    "import plotly.express as px\n",
    "\n",
    "# Assuming 'country_stats' is precomputed as per your earlier code and is available as a DataFrame\n",
    "# Calculating comprehensive statistics, including percentiles\n",
    "country_stats = df.groupby('Employee Residence')['Salary in USD'].agg(['mean', 'std', 'min', 'median', 'max', 'count',\n",
    "                                                                       ('25%', lambda x: x.quantile(0.25)), \n",
    "                                                                       ('75%', lambda x: x.quantile(0.75))]).reset_index()\n",
    "\n",
    "# Create the choropleth map, setting the color scale range to the data's range\n",
    "fig = px.choropleth(\n",
    "    country_stats,\n",
    "    locations=\"Employee Residence\",\n",
    "    locationmode=\"country names\",\n",
    "    color=\"median\",\n",
    "    hover_name=\"Employee Residence\",\n",
    "    hover_data={\"median\":\":,.0f\", \"mean\":\":,.0f\", \"std\":\":,.0f\", \"min\":\":,.0f\", \"25%\":\":,.0f\", \"75%\":\":,.0f\", \"max\":\":,.0f\", \"count\":\":,.0f\"},\n",
    "    title=\"Enhanced Descriptive Statistics of Jobs by Country\",\n",
    "    color_continuous_scale=px.colors.sequential.Viridis,  # A perceptually uniform color scale\n",
    "    range_color=(0, 250000)  # Setting max value of color bar to 250,000\n",
    ")\n",
    "\n",
    "# Update layout and color bar\n",
    "fig.update_layout(\n",
    "    coloraxis_colorbar=dict(\n",
    "        title=\"Median Salary in USD\",\n",
    "        # The tickmode can be set to 'array' and tickvals can be a list of desired tick values\n",
    "    ),\n",
    "    height=800,\n",
    "    width=1500\n",
    ")\n",
    "\n",
    "# Display the figure\n",
    "fig.show()\n",
    "\n",
    "# The 'html_file_path' is where the map will be saved on your local machine\n",
    "# Make sure the path is correct for your system\n",
    "\n",
    "\n",
    "\n",
    "\n",
    "# Note: Replace 'enhanced_world_map_salary_stats.html' with your desired file path\n",
    "fig.show()\n",
    "fig.write_html('map.html')"
   ]
  }
 ],
 "metadata": {
  "kernelspec": {
   "display_name": "base",
   "language": "python",
   "name": "python3"
  },
  "language_info": {
   "codemirror_mode": {
    "name": "ipython",
    "version": 3
   },
   "file_extension": ".py",
   "mimetype": "text/x-python",
   "name": "python",
   "nbconvert_exporter": "python",
   "pygments_lexer": "ipython3",
   "version": "3.11.5"
  }
 },
 "nbformat": 4,
 "nbformat_minor": 2
}
